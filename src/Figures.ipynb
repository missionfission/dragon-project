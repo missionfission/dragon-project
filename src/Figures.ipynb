{
 "cells": [
  {
   "cell_type": "code",
   "execution_count": 1,
   "metadata": {},
   "outputs": [],
   "source": [
    "import numpy as np\n",
    "a = np.random.randn(20,20,3)"
   ]
  },
  {
   "cell_type": "code",
   "execution_count": 1,
   "metadata": {},
   "outputs": [
    {
     "name": "stdout",
     "output_type": "stream",
     "text": [
      "Requirement already satisfied: matplotlib in /Users/khushalsethi/opt/miniconda3/envs/stanford/lib/python3.9/site-packages (3.5.0)\n",
      "Requirement already satisfied: python-dateutil>=2.7 in /Users/khushalsethi/opt/miniconda3/envs/stanford/lib/python3.9/site-packages (from matplotlib) (2.8.2)\n",
      "Requirement already satisfied: packaging>=20.0 in /Users/khushalsethi/opt/miniconda3/envs/stanford/lib/python3.9/site-packages (from matplotlib) (21.3)\n",
      "Requirement already satisfied: numpy>=1.17 in /Users/khushalsethi/opt/miniconda3/envs/stanford/lib/python3.9/site-packages (from matplotlib) (1.21.4)\n",
      "Requirement already satisfied: pyparsing>=2.2.1 in /Users/khushalsethi/opt/miniconda3/envs/stanford/lib/python3.9/site-packages (from matplotlib) (3.0.6)\n",
      "Requirement already satisfied: fonttools>=4.22.0 in /Users/khushalsethi/opt/miniconda3/envs/stanford/lib/python3.9/site-packages (from matplotlib) (4.28.2)\n",
      "Requirement already satisfied: kiwisolver>=1.0.1 in /Users/khushalsethi/opt/miniconda3/envs/stanford/lib/python3.9/site-packages (from matplotlib) (1.3.2)\n",
      "Requirement already satisfied: pillow>=6.2.0 in /Users/khushalsethi/opt/miniconda3/envs/stanford/lib/python3.9/site-packages (from matplotlib) (8.4.0)\n",
      "Requirement already satisfied: setuptools-scm>=4 in /Users/khushalsethi/opt/miniconda3/envs/stanford/lib/python3.9/site-packages (from matplotlib) (6.3.2)\n",
      "Requirement already satisfied: cycler>=0.10 in /Users/khushalsethi/opt/miniconda3/envs/stanford/lib/python3.9/site-packages (from matplotlib) (0.11.0)\n",
      "Requirement already satisfied: six>=1.5 in /Users/khushalsethi/opt/miniconda3/envs/stanford/lib/python3.9/site-packages (from python-dateutil>=2.7->matplotlib) (1.16.0)\n",
      "Requirement already satisfied: setuptools in /Users/khushalsethi/opt/miniconda3/envs/stanford/lib/python3.9/site-packages (from setuptools-scm>=4->matplotlib) (58.0.4)\n",
      "Requirement already satisfied: tomli>=1.0.0 in /Users/khushalsethi/opt/miniconda3/envs/stanford/lib/python3.9/site-packages (from setuptools-scm>=4->matplotlib) (1.2.2)\n"
     ]
    }
   ],
   "source": [
    "!pip install matplotlib"
   ]
  },
  {
   "cell_type": "code",
   "execution_count": 2,
   "metadata": {},
   "outputs": [],
   "source": [
    "# import numpy as np\n",
    "import matplotlib.pyplot as plt\n",
    "from matplotlib.ticker import MaxNLocator\n",
    "from collections import namedtuple\n",
    "import matplotlib as mpl\n",
    "# mpl.rcParams['text.usetex'] = False?\n",
    "# mpl.rcParams['text.latex.preamble'] = [r'\\usepackage{amsmath}']\n",
    "\n",
    "\n",
    "# fig, ax = plt.subplots(figsize=(30,6))\n",
    "# index = np.arange(n_groups)\n",
    "# print(index)\n",
    "# bar_width = 0.05\n",
    "# ax.set_yscale('linear')\n",
    "# # opacity = 0.4\n",
    "# error_config = {'ecolor': '0.3'}\n",
    "# index = np.arange(n_groups)\n",
    "# # print(index)\n",
    "# bar_width = 0.1\n",
    "# # ax.set_yscale('log')\n",
    "# opacity = 0.1\n",
    "# error_config = {'ecolor': '0.3'}\n",
    "# # #\n",
    "\n",
    "# n_groups = 15\n",
    "# rects1 = ax.bar(index+bar_width,read_dram, bar_width, color='blue', error_kw=error_config,label='DRAM')\n",
    "# rects2 = ax.bar(index + 2.2*bar_width,read_nvm, bar_width, color='green', error_kw=error_config,label='NVM')\n",
    "\n",
    "# # ax.set_ylabel('SpeedUp (GraphMat=1)',fontsize=14,fontweight='bold')\n",
    "# ax.set_xticks(index + bar_width*2)\n",
    "# ax.set_xticklabels(('<1,.256,4>', '<2,.128,2>', '<5,.05,0.8>','<10,.025,0.4>','<20,.012,0.2>','<1,.256,4>', '<2,.128,2>', '<5,.05,0.8>','<10,.025,0.4>','<20,.012,0.2>','<1,.256,4>', '<2,.128,2>', '<5,.05,0.8>','<10,.025,0.4>','<20,.012,0.2>'))\n",
    "# ax.set_ylabel('Average Read Size \\n (in KB)',fontsize=20,fontweight='bold')\n",
    "# ax.legend(fontsize=20)\n",
    "# ax.set_xlabel('Zipf\\'s Parameter =0.9,                                                         Zipf\\'s Parameter =0.8,                                                                                        Zipf\\'s Parameter =0.7',fontsize=20,fontweight='bold')\n",
    "# fig.tight_layout()\n",
    "# plt.rc('xtick', labelsize=20)    # fontsize of the tick labels\n",
    "# plt.rc('ytick', labelsize=20)\n",
    "# # plt.savefig('read_avg.png', bbox_inches = 'tight')\n",
    "# plt.show()"
   ]
  },
  {
   "cell_type": "code",
   "execution_count": 1,
   "metadata": {},
   "outputs": [
    {
     "ename": "NameError",
     "evalue": "name 'plt' is not defined",
     "output_type": "error",
     "traceback": [
      "\u001b[0;31m---------------------------------------------------------------------------\u001b[0m",
      "\u001b[0;31mNameError\u001b[0m                                 Traceback (most recent call last)",
      "\u001b[0;32m/var/folders/l4/51s9_smn13b4fxfp3mcj80z40000gn/T/ipykernel_30928/379110796.py\u001b[0m in \u001b[0;36m<module>\u001b[0;34m\u001b[0m\n\u001b[1;32m      1\u001b[0m \u001b[0mn_groups\u001b[0m \u001b[0;34m=\u001b[0m \u001b[0;36m4\u001b[0m\u001b[0;34m\u001b[0m\u001b[0;34m\u001b[0m\u001b[0m\n\u001b[0;32m----> 2\u001b[0;31m \u001b[0mfig\u001b[0m\u001b[0;34m,\u001b[0m \u001b[0max\u001b[0m \u001b[0;34m=\u001b[0m \u001b[0mplt\u001b[0m\u001b[0;34m.\u001b[0m\u001b[0msubplots\u001b[0m\u001b[0;34m(\u001b[0m\u001b[0;34m)\u001b[0m\u001b[0;34m\u001b[0m\u001b[0;34m\u001b[0m\u001b[0m\n\u001b[0m\u001b[1;32m      3\u001b[0m \u001b[0mindex\u001b[0m \u001b[0;34m=\u001b[0m \u001b[0mnp\u001b[0m\u001b[0;34m.\u001b[0m\u001b[0marange\u001b[0m\u001b[0;34m(\u001b[0m\u001b[0mn_groups\u001b[0m\u001b[0;34m)\u001b[0m\u001b[0;34m\u001b[0m\u001b[0;34m\u001b[0m\u001b[0m\n\u001b[1;32m      4\u001b[0m \u001b[0mprint\u001b[0m\u001b[0;34m(\u001b[0m\u001b[0mindex\u001b[0m\u001b[0;34m)\u001b[0m\u001b[0;34m\u001b[0m\u001b[0;34m\u001b[0m\u001b[0m\n\u001b[1;32m      5\u001b[0m \u001b[0mname_list\u001b[0m \u001b[0;34m=\u001b[0m \u001b[0;34m[\u001b[0m\u001b[0;34m\"Ours\"\u001b[0m\u001b[0;34m,\u001b[0m \u001b[0;34m\"N3XT (Accel-Sim)\"\u001b[0m\u001b[0;34m]\u001b[0m\u001b[0;34m\u001b[0m\u001b[0;34m\u001b[0m\u001b[0m\n",
      "\u001b[0;31mNameError\u001b[0m: name 'plt' is not defined"
     ]
    }
   ],
   "source": [
    "n_groups = 4\n",
    "fig, ax = plt.subplots()\n",
    "index = np.arange(n_groups)\n",
    "print(index)\n",
    "name_list = [\"Ours\", \"N3XT (Accel-Sim)\"]\n",
    "bar_width = 0.05\n",
    "# opacity = 0.4\n",
    "error_config = {'ecolor': '0.3'}\n",
    "# index = np.arange(n_groups)\n",
    "# print(index)\n",
    "bar_width = 0.1\n",
    "# ax.set_yscale('log')\n",
    "opacity = 0.1\n",
    "error_config = {'ecolor': '0.3'}\n",
    "speedup = [1,1,10, 10000, 200]\n",
    "ax.set_yscale('log')\n",
    "rects1 = ax.bar(name_list,speedup, bar_width, color='blue', error_kw=error_config)\n",
    "ax.set_ylabel('Development Time',fontsize=20,fontweight='bold')\n",
    "ax.legend(fontsize=20)\n",
    "ax.set_xlabel(\"\")\n",
    "fig.tight_layout()\n",
    "plt.xticks(rotation=30)\n",
    "plt.rc('xtick', labelsize=20)    # fontsize of the tick labels\n",
    "plt.rc('ytick', labelsize=20)\n",
    "plt.savefig('figures/speedup_development.png', bbox_inches = 'tight')\n",
    "plt.show"
   ]
  },
  {
   "cell_type": "code",
   "execution_count": null,
   "metadata": {},
   "outputs": [],
   "source": [
    "                    \n",
    "from mpl_toolkits.mplot3d import Axes3D  # noqa: F401 unused import\n",
    "\n",
    "import matplotlib.pyplot as plt\n",
    "from matplotlib import cm\n",
    "from matplotlib.ticker import LinearLocator, FormatStrFormatter\n",
    "import numpy as np\n",
    "\n",
    "\n",
    "fig = plt.figure()\n",
    "ax = fig.gca(projection='3d')\n",
    "\n",
    "# Make data.\n",
    "X = np.arange(-5, 5, 0.25)\n",
    "Y = np.arange(-5, 5, 0.25)\n",
    "X, Y = np.meshgrid(X, Y)\n",
    "R = np.sqrt(X**2 + Y**2)\n",
    "Z = np.sin(R)\n",
    "\n",
    "# Plot the surface.\n",
    "surf = ax.plot_surface(X, Y, Z, cmap=cm.coolwarm,\n",
    "                       linewidth=0, antialiased=False)\n",
    "\n",
    "# Customize the z axis.\n",
    "ax.set_zlim(-1.01, 1.01)\n",
    "ax.zaxis.set_major_locator(LinearLocator(10))\n",
    "ax.zaxis.set_major_formatter(FormatStrFormatter('%.02f'))\n",
    "\n",
    "# Add a color bar which maps values to colors.\n",
    "fig.colorbar(surf, shrink=0.5, aspect=5)\n",
    "\n",
    "plt.show()   "
   ]
  },
  {
   "cell_type": "code",
   "execution_count": null,
   "metadata": {},
   "outputs": [],
   "source": [
    "# import numpy as np\n",
    "# import matplotlib.pyplot as plt\n",
    "# from matplotlib.ticker import MaxNLocator\n",
    "# from collections import namedtuple\n",
    "# import matplotlib as mpl\n",
    "# # mpl.rcParams['text.usetex'] = False?\n",
    "# # mpl.rcParams['text.latex.preamble'] = [r'\\usepackage{amsmath}']\n",
    "\n",
    "# n_groups = 15\n",
    "# fig, ax = plt.subplots(figsize=(30,6))\n",
    "# index = np.arange(n_groups)\n",
    "# print(index)\n",
    "# bar_width = 0.05\n",
    "# ax.set_yscale('linear')\n",
    "# # opacity = 0.4\n",
    "# error_config = {'ecolor': '0.3'}\n",
    "# index = np.arange(n_groups)\n",
    "# # print(index)\n",
    "# bar_width = 0.1\n",
    "# # ax.set_yscale('log')\n",
    "# opacity = 0.1\n",
    "# error_config = {'ecolor': '0.3'}\n",
    "# #\n",
    "\n",
    "\n",
    "# rects1 = ax.bar(index+bar_width,h0_writes[:,0], bar_width, color='red', error_kw=error_config,label='DRAM')+ax.bar(index+bar_width, h0_writes[:,1], bar_width, bottom=h0_writes[:,0], color='gold', error_kw=error_config,label='NVM')+ax.bar(index+bar_width, h0_writes[:,2], bar_width,bottom=h0_writes[:,0]+h0_writes[:,1],color='aqua', error_kw=error_config,label='Misses')\n",
    "# rects1 = ax.bar(index+bar_width, h0_writes[:,0]+h0_writes[:,1]+h0_writes[:,2], bar_width, color='none', error_kw=error_config,label='h=2',hatch='o')\n",
    "# rects2 = axpgf_with_rc_fonts = {\"pgf.texsystem\": \"pdflatex\"}\n",
    "# matplotlib.rcParams.update(pgf_with_rc_fonts).bar(index + 2.2*bar_width,h1_writes[:,0]  , bar_width, color='red', error_kw=error_config)+ax.bar(index + 2.2*bar_width, h1_writes[:,1] , bar_width,bottom=h1_writes[:,0], color='gold', error_kw=error_config)+ax.bar(index+2.2*bar_width,h1_writes[:,2] , bar_width,bottom=h1_writes[:,0]+h1_writes[:,1],color='aqua', error_kw=error_config)\n",
    "# rects2 = ax.bar(index + 2.2*bar_width, h1_writes[:,0]+h1_writes[:,1]+h1_writes[:,2], bar_width, color='none',hatch='x', error_kw=error_config,label='h=1')\n",
    "# rects3 = ax.bar(index + 3.4*bar_width, h2_writes[:,0] , bar_width, color='red',hatch='/',error_kw=error_config)+ax.bar(index + 3.4*bar_width, h2_writes[:,1] , bar_width, bottom=h2_writes[:,0], color='gold',hatch='/',error_kw=error_config)+ax.bar(index+3.4*bar_width, h2_writes[:,2], bar_width,bottom= h2_writes[:,0]+h2_writes[:,1],color='aqua', error_kw=error_config)\n",
    "# rects3 = ax.bar(index + 3.4*bar_width, h2_writes[:,0]+h2_writes[:,1]+h2_writes[:,2], bar_width, color='none',hatch='/',error_kw=error_config,label='h=0')\n",
    "\n",
    "# # ax.set_ylabel('SpeedUp (GraphMat=1)',fontsize=14,fontweight='bold')\n",
    "# ax.set_xticks(index + bar_width*2)\n",
    "# ax.set_xticklabels(('<1,.256,4>', '<2,.128,2>', '<5,.05,0.8>','<10,.025,0.4>','<20,.012,0.2>','<1,.256,4>', '<2,.128,2>', '<5,.05,0.8>','<10,.025,0.4>','<20,.012,0.2>','<1,.256,4>', '<2,.128,2>', '<5,.05,0.8>','<10,.025,0.4>','<20,.012,0.2>'))\n",
    "# ax.set_ylabel('Fraction of Number of Writes  \\n in DRAM/NVM',fontsize=20,fontweight='bold')\n",
    "# ax.set_xlabel('Zipf\\'s Parameter =0.9,                                                         Zipf\\'s Parameter =0.8,                                                                                        Zipf\\'s Parameter =0.7',fontsize=20,fontweight='bold')\n",
    "# ax.legend(fontsize=20)\n",
    "# # ax.set_ylim( (pow(10,-2),pow(10,3)))\n",
    "# fig.tight_layout()\n",
    "# plt.rc('xtick', labelsize=16)    # fontsize of the tick labels\n",
    "# plt.rc('ytick', labelsize=20)\n",
    "# plt.savefig('data_writes.png', bbox_inches = 'tight')\n",
    "# plt.show()"
   ]
  },
  {
   "cell_type": "code",
   "execution_count": null,
   "metadata": {},
   "outputs": [],
   "source": [
    "# fig, ax = plt.subplots(figsize=(30, 10))\n",
    "# base_dir = \"figures/\"\n",
    "# error_config = {\"ecolor\": \"0.3\"}\n",
    "# index = np.arange((len(var1)))\n",
    "# #     plt.axhline(y=var3, color=\"black\", linestyle=\"-\", label=\"Limit\", linewidth=6)\n",
    "# ax.bar(\n",
    "#     index,\n",
    "#     var1,\n",
    "#     bar_width,\n",
    "#     color=\"blue\",\n",
    "#     error_kw=error_config,\n",
    "#     label=\"\",\n",
    "# )\n",
    "# # ax.bar(\n",
    "# #     index + 2 * bar_width,\n",
    "# #     var2,\n",
    "# #     bar_width,\n",
    "# #     color=\"red\",\n",
    "# #     error_kw=error_config,\n",
    "# #     label=\"\",\n",
    "# # )\n",
    "# ax.legend(fontsize=20)\n",
    "# plt.yscale(\"log\")\n",
    "# ax.set_xticks(index)\n",
    "# ax.set_xticklabels(xticklabels)\n",
    "# plt.xticks(rotation=80)\n",
    "# plt.rc(\"xtick\", labelsize=20)  # fontsize of the tick labels\n",
    "# plt.rc(\"ytick\", labelsize=20)\n",
    "# ax.set_ylabel(\"Read Bandwidth\", fontsize=20, fontweight=\"bold\")\n",
    "# ax.set_xlabel(\"Graph Nodes\", fontsize=20, fontweight=\"bold\")\n",
    "# fig.tight_layout()\n",
    "# plt.savefig(base_dir + \"sram.png\", bbox_inches=\"tight\")\n",
    "# plt.show()"
   ]
  },
  {
   "cell_type": "code",
   "execution_count": 1,
   "metadata": {},
   "outputs": [],
   "source": [
    "import os\n",
    "from collections import namedtuple\n",
    "\n",
    "import matplotlib as mpl\n",
    "import matplotlib.pyplot as plt\n",
    "import numpy as np\n",
    "from matplotlib.ticker import MaxNLocator\n",
    "\n",
    "# path = os.path.join(os.path.dirname(__file__))\n",
    "# print(path)\n",
    "fig, ax = plt.subplots()\n",
    "ax.plot(\n",
    "    [1, 2.3, 4.18, 4.18], [1, 9.5, 9.5, 26.1], \"ro-\", \n",
    ")\n",
    "ax.plot(\n",
    "    [1, 1, 1.81], [1, 1.01, 1.01], \"bo--\",\n",
    ")\n",
    "ax.plot([1, 1.2, 1.2, 3.4], [1, 3, 7, 7], \"yo--\")\n",
    "ax.plot([1, 2, 2, 3.5], [1, 3, 6, 12], \"go--\")\n",
    "ax.set_ylim(1, 30)\n",
    "ax.set_xlim(1, 5)\n",
    "ax.set_ylabel(\"Accel. Speedup (Exec. Time)\", fontsize=16, fontweight=\"bold\")\n",
    "ax.set_xlabel(\"Accel.  Energy Efficiency (Improvement)\", fontsize=16, fontweight=\"bold\")\n",
    "plt.rc(\"xtick\", labelsize=16)  # fontsize of the tick labels\n",
    "plt.rc(\"ytick\", labelsize=16)\n",
    "ax.legend(fontsize=12)\n",
    "plt.savefig(\"./spaths4.png\", bbox_inches=\"tight\")\n",
    "# plt.show()"
   ]
  },
  {
   "cell_type": "markdown",
   "metadata": {},
   "source": [
    "Language Model"
   ]
  },
  {
   "cell_type": "code",
   "execution_count": null,
   "metadata": {
    "scrolled": true
   },
   "outputs": [],
   "source": [
    "import os\n",
    "from collections import namedtuple\n",
    "\n",
    "import matplotlib as mpl\n",
    "import matplotlib.pyplot as plt\n",
    "import numpy as np\n",
    "from matplotlib.ticker import MaxNLocator\n",
    "\n",
    "# path = os.path.join(os.path.dirname(__file__))\n",
    "# print(path)\n",
    "fig, ax = plt.subplots()\n",
    "ax.plot(\n",
    "    [1, 2.3, 4.18, 4.18], [1, 9.5, 9.5, 26.1], \"ro-\", \n",
    ")\n",
    "ax.plot(\n",
    "    [1, 1, 1.81], [1, 1.01, 1.01], \"bo--\",\n",
    ")\n",
    "ax.plot([1, 1.2, 1.2, 3.4], [1, 3, 7, 7], \"yo--\")\n",
    "ax.plot([1, 2, 2, 3.5], [1, 3, 6, 12], \"go--\")\n",
    "ax.set_ylim(1, 30)\n",
    "ax.set_xlim(1, 5)\n",
    "ax.set_ylabel(\"Accel. Speedup (Exec. Time)\", fontsize=16, fontweight=\"bold\")\n",
    "ax.set_xlabel(\"Accel.  Energy Efficiency (Improvement)\", fontsize=16, fontweight=\"bold\")\n",
    "plt.rc(\"xtick\", labelsize=16)  # fontsize of the tick labels\n",
    "plt.rc(\"ytick\", labelsize=16)\n",
    "ax.legend(fontsize=12)\n",
    "plt.savefig(\"./figures/paths4.png\", bbox_inches=\"tight\")\n",
    "plt.show()"
   ]
  },
  {
   "cell_type": "markdown",
   "metadata": {},
   "source": [
    "DLRM"
   ]
  },
  {
   "cell_type": "code",
   "execution_count": null,
   "metadata": {
    "scrolled": true
   },
   "outputs": [
    {
     "ename": "ModuleNotFoundError",
     "evalue": "No module named 'matplotlib'",
     "output_type": "error",
     "traceback": [
      "\u001b[0;31m---------------------------------------------------------------------------\u001b[0m",
      "\u001b[0;31mModuleNotFoundError\u001b[0m                       Traceback (most recent call last)",
      "\u001b[0;32m<ipython-input-1-3cf03b1ab23b>\u001b[0m in \u001b[0;36m<module>\u001b[0;34m\u001b[0m\n\u001b[1;32m      2\u001b[0m \u001b[0;32mfrom\u001b[0m \u001b[0mcollections\u001b[0m \u001b[0;32mimport\u001b[0m \u001b[0mnamedtuple\u001b[0m\u001b[0;34m\u001b[0m\u001b[0;34m\u001b[0m\u001b[0m\n\u001b[1;32m      3\u001b[0m \u001b[0;34m\u001b[0m\u001b[0m\n\u001b[0;32m----> 4\u001b[0;31m \u001b[0;32mimport\u001b[0m \u001b[0mmatplotlib\u001b[0m \u001b[0;32mas\u001b[0m \u001b[0mmpl\u001b[0m\u001b[0;34m\u001b[0m\u001b[0;34m\u001b[0m\u001b[0m\n\u001b[0m\u001b[1;32m      5\u001b[0m \u001b[0;32mimport\u001b[0m \u001b[0mmatplotlib\u001b[0m\u001b[0;34m.\u001b[0m\u001b[0mpyplot\u001b[0m \u001b[0;32mas\u001b[0m \u001b[0mplt\u001b[0m\u001b[0;34m\u001b[0m\u001b[0;34m\u001b[0m\u001b[0m\n\u001b[1;32m      6\u001b[0m \u001b[0;32mimport\u001b[0m \u001b[0mnumpy\u001b[0m \u001b[0;32mas\u001b[0m \u001b[0mnp\u001b[0m\u001b[0;34m\u001b[0m\u001b[0;34m\u001b[0m\u001b[0m\n",
      "\u001b[0;31mModuleNotFoundError\u001b[0m: No module named 'matplotlib'"
     ]
    }
   ],
   "source": [
    "import os\n",
    "from collections import namedtuple\n",
    "\n",
    "import matplotlib as mpl\n",
    "import matplotlib.pyplot as plt\n",
    "import numpy as np\n",
    "from matplotlib.ticker import MaxNLocator\n",
    "\n",
    "# path = os.path.join(os.path.dirname(__file__))\n",
    "# print(path)\n",
    "fig, ax = plt.subplots()\n",
    "ax.plot(\n",
    "    [1, 2.3], [1, 76.1], \"ro-\", \n",
    ")\n",
    "# ax.plot(\n",
    "#     [1, 1, 1.81], [1, 1.01, 1.01], \"bo--\",\n",
    "# )\n",
    "# ax.plot([1, 1.2, 1.2, 3.4], [1, 3, 7, 7], \"yo--\")\n",
    "ax.plot([1, 2, 2, 3.5], [1, 3, 6, 12], \"go--\")\n",
    "ax.set_ylim(1, 30)\n",
    "ax.set_xlim(1, 5)\n",
    "ax.set_ylabel(\"Accel. Speedup (Exec. Time)\", fontsize=16, fontweight=\"bold\")\n",
    "ax.set_xlabel(\"Accel.  Energy Efficiency (Improvement)\", fontsize=16, fontweight=\"bold\")\n",
    "plt.rc(\"xtick\", labelsize=16)  # fontsize of the tick labels\n",
    "plt.rc(\"ytick\", labelsize=16)\n",
    "ax.legend(fontsize=12)\n",
    "plt.savefig(\"./figures/paths4.png\", bbox_inches=\"tight\")\n",
    "plt.show()"
   ]
  },
  {
   "cell_type": "markdown",
   "metadata": {},
   "source": [
    "# Design Space"
   ]
  },
  {
   "cell_type": "code",
   "execution_count": null,
   "metadata": {},
   "outputs": [],
   "source": [
    "VGG-11 (Training) 0.034380025 ,0.832126031022\n",
    "Resnet50 (Training) 0.010592830 , 0.286329388172\n",
    "Bert (Training):   0.077619611, 1.494209182507\n",
    "DLRM (Training): 600ns, 128990pJ  "
   ]
  },
  {
   "cell_type": "markdown",
   "metadata": {},
   "source": [
    "# Execution Time v/s Energy Efficiency Space figures"
   ]
  },
  {
   "cell_type": "code",
   "execution_count": null,
   "metadata": {},
   "outputs": [],
   "source": [
    "import time\n",
    "import os "
   ]
  },
  {
   "cell_type": "code",
   "execution_count": null,
   "metadata": {},
   "outputs": [],
   "source": [
    "ax.plot(list1, labels, )\n",
    "ax.plot(list2, labels, )\n",
    "[Network, Cycle-Accurate Framework, Graph-Theoretic Framework (Ours),\n",
    " Resnet50,0.06073960257,0.053545,0.8815500552\n",
    "Vgg-14,0.1911471666,0.18041849,0.9438721652\n",
    "LanguageModel,0.9409193837,0.8091938373,0.8600033662]\n",
    "\n",
    "[Network,Cycle-Accurate Framework,Graph-Theoretic Framework (Ours),\n",
    " Resnet50,0.004102602,0.0034,0.8287423445\n",
    "Vgg-14,0.010871519,0.009471519,0.8712231474\n",
    "LanguageModel,0.050918745,0.038918745,0.7643304052]\n"
   ]
  },
  {
   "cell_type": "code",
   "execution_count": null,
   "metadata": {},
   "outputs": [],
   "source": [
    "fig, ax = plt.subplots()\n",
    "ax2 = ax.twinx()\n",
    "xlist = [\"Resnet-50\",\"VGG-14\",\"Language Model\"]\n",
    "list1 = [0.06073960257,0.1911471666, 0.9409193837 ]\n",
    "list2 = [0.053545, 0.18041849,0.8091938373 ]\n",
    "list3 = [0.8815500552, 0.9438721652,0.8600033662 ]\n",
    "list4 = [0.004102602, 0.010871519, 0.050918745]\n",
    "list5 = [0.0034, 0.009471519, 0.038918745]\n",
    "ax.plot(xlist, list1,  marker='o',color='red',label='Base (N3XT) : Execution Time')\n",
    "ax.plot(xlist, list2, marker='o',color='blue', label='Ours : Execution Time')\n",
    "ax.legend(loc='upper right',fontsize=16)\n",
    "ax.set_ylabel('Execution Time',fontsize=16,fontweight='bold')\n",
    "# ax2.set_xlim(0.01,0.05)\n",
    "\n",
    "# ax.set_xticks()\n",
    "plt.rc('xtick', labelsize=16)    # fontsize of the tick labels\n",
    "plt.rc('ytick', labelsize=16)\n",
    "plt.savefig('figures/accuracy_time.png', bbox_inches = 'tight')\n",
    "plt.show()\n"
   ]
  },
  {
   "cell_type": "code",
   "execution_count": null,
   "metadata": {},
   "outputs": [],
   "source": [
    "fig, ax2 = plt.subplots()\n",
    "\n",
    "ax2.plot(xlist, list4, 'r--', label=\"Base (N3XT) : Energy Efficiency\")\n",
    "ax2.plot(xlist, list5, 'b--', label=\"Ours : Energy Efficiency\")\n",
    "ax2.legend(loc='upper right',fontsize=16)\n",
    "ax2.set_ylabel('Energy Efficiency',fontsize=16,fontweight='bold')\n",
    "plt.rc('xtick', labelsize=16)    # fontsize of the tick labels\n",
    "plt.rc('ytick', labelsize=16)\n",
    "plt.savefig('figures/accuracy.png', bbox_inches = 'tight')\n",
    "plt.show()"
   ]
  },
  {
   "cell_type": "code",
   "execution_count": null,
   "metadata": {},
   "outputs": [],
   "source": []
  }
 ],
 "metadata": {
  "kernelspec": {
   "display_name": "Python 3",
   "language": "python",
   "name": "python3"
  },
  "language_info": {
   "codemirror_mode": {
    "name": "ipython",
    "version": 3
   },
   "file_extension": ".py",
   "mimetype": "text/x-python",
   "name": "python",
   "nbconvert_exporter": "python",
   "pygments_lexer": "ipython3",
   "version": "3.9.7"
  }
 },
 "nbformat": 4,
 "nbformat_minor": 2
}
