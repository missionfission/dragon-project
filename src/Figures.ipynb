{
 "cells": [
  {
   "cell_type": "code",
   "execution_count": null,
   "metadata": {},
   "outputs": [],
   "source": [
    "a = np.random.randn(20,20,3)"
   ]
  },
  {
   "cell_type": "code",
   "execution_count": null,
   "metadata": {},
   "outputs": [],
   "source": [
    "import numpy as np\n",
    "import matplotlib.pyplot as plt\n",
    "from matplotlib.ticker import MaxNLocator\n",
    "from collections import namedtuple\n",
    "import matplotlib as mpl\n",
    "# mpl.rcParams['text.usetex'] = False?\n",
    "# mpl.rcParams['text.latex.preamble'] = [r'\\usepackage{amsmath}']\n",
    "\n",
    "\n",
    "fig, ax = plt.subplots(figsize=(30,6))\n",
    "index = np.arange(n_groups)\n",
    "print(index)\n",
    "bar_width = 0.05\n",
    "ax.set_yscale('linear')\n",
    "# opacity = 0.4\n",
    "error_config = {'ecolor': '0.3'}\n",
    "index = np.arange(n_groups)\n",
    "# print(index)\n",
    "bar_width = 0.1\n",
    "# ax.set_yscale('log')\n",
    "opacity = 0.1\n",
    "error_config = {'ecolor': '0.3'}\n",
    "#\n",
    "\n",
    "n_groups = 15\n",
    "rects1 = ax.bar(index+bar_width,read_dram, bar_width, color='blue', error_kw=error_config,label='DRAM')\n",
    "rects2 = ax.bar(index + 2.2*bar_width,read_nvm, bar_width, color='green', error_kw=error_config,label='NVM')\n",
    "\n",
    "# ax.set_ylabel('SpeedUp (GraphMat=1)',fontsize=14,fontweight='bold')\n",
    "ax.set_xticks(index + bar_width*2)\n",
    "ax.set_xticklabels(('<1,.256,4>', '<2,.128,2>', '<5,.05,0.8>','<10,.025,0.4>','<20,.012,0.2>','<1,.256,4>', '<2,.128,2>', '<5,.05,0.8>','<10,.025,0.4>','<20,.012,0.2>','<1,.256,4>', '<2,.128,2>', '<5,.05,0.8>','<10,.025,0.4>','<20,.012,0.2>'))\n",
    "ax.set_ylabel('Average Read Size \\n (in KB)',fontsize=20,fontweight='bold')\n",
    "ax.legend(fontsize=20)\n",
    "ax.set_xlabel('Zipf\\'s Parameter =0.9,                                                         Zipf\\'s Parameter =0.8,                                                                                        Zipf\\'s Parameter =0.7',fontsize=20,fontweight='bold')\n",
    "fig.tight_layout()\n",
    "plt.rc('xtick', labelsize=20)    # fontsize of the tick labels\n",
    "plt.rc('ytick', labelsize=20)\n",
    "plt.savefig('read_avg.png', bbox_inches = 'tight')\n",
    "plt.show()"
   ]
  },
  {
   "cell_type": "code",
   "execution_count": null,
   "metadata": {},
   "outputs": [],
   "source": [
    "                    \n",
    "from mpl_toolkits.mplot3d import Axes3D  # noqa: F401 unused import\n",
    "\n",
    "import matplotlib.pyplot as plt\n",
    "from matplotlib import cm\n",
    "from matplotlib.ticker import LinearLocator, FormatStrFormatter\n",
    "import numpy as np\n",
    "\n",
    "\n",
    "fig = plt.figure()\n",
    "ax = fig.gca(projection='3d')\n",
    "\n",
    "# Make data.\n",
    "X = np.arange(-5, 5, 0.25)\n",
    "Y = np.arange(-5, 5, 0.25)\n",
    "X, Y = np.meshgrid(X, Y)\n",
    "R = np.sqrt(X**2 + Y**2)\n",
    "Z = np.sin(R)\n",
    "\n",
    "# Plot the surface.\n",
    "surf = ax.plot_surface(X, Y, Z, cmap=cm.coolwarm,\n",
    "                       linewidth=0, antialiased=False)\n",
    "\n",
    "# Customize the z axis.\n",
    "ax.set_zlim(-1.01, 1.01)\n",
    "ax.zaxis.set_major_locator(LinearLocator(10))\n",
    "ax.zaxis.set_major_formatter(FormatStrFormatter('%.02f'))\n",
    "\n",
    "# Add a color bar which maps values to colors.\n",
    "fig.colorbar(surf, shrink=0.5, aspect=5)\n",
    "\n",
    "plt.show()   "
   ]
  },
  {
   "cell_type": "code",
   "execution_count": null,
   "metadata": {},
   "outputs": [],
   "source": [
    "import numpy as np\n",
    "import matplotlib.pyplot as plt\n",
    "from matplotlib.ticker import MaxNLocator\n",
    "from collections import namedtuple\n",
    "import matplotlib as mpl\n",
    "# mpl.rcParams['text.usetex'] = False?\n",
    "# mpl.rcParams['text.latex.preamble'] = [r'\\usepackage{amsmath}']\n",
    "\n",
    "n_groups = 15\n",
    "fig, ax = plt.subplots(figsize=(30,6))\n",
    "index = np.arange(n_groups)\n",
    "print(index)\n",
    "bar_width = 0.05\n",
    "ax.set_yscale('linear')\n",
    "# opacity = 0.4\n",
    "error_config = {'ecolor': '0.3'}\n",
    "index = np.arange(n_groups)\n",
    "# print(index)\n",
    "bar_width = 0.1\n",
    "# ax.set_yscale('log')\n",
    "opacity = 0.1\n",
    "error_config = {'ecolor': '0.3'}\n",
    "#\n",
    "\n",
    "\n",
    "rects1 = ax.bar(index+bar_width,h0_writes[:,0], bar_width, color='red', error_kw=error_config,label='DRAM')+ax.bar(index+bar_width, h0_writes[:,1], bar_width, bottom=h0_writes[:,0], color='gold', error_kw=error_config,label='NVM')+ax.bar(index+bar_width, h0_writes[:,2], bar_width,bottom=h0_writes[:,0]+h0_writes[:,1],color='aqua', error_kw=error_config,label='Misses')\n",
    "rects1 = ax.bar(index+bar_width, h0_writes[:,0]+h0_writes[:,1]+h0_writes[:,2], bar_width, color='none', error_kw=error_config,label='h=2',hatch='o')\n",
    "rects2 = axpgf_with_rc_fonts = {\"pgf.texsystem\": \"pdflatex\"}\n",
    "matplotlib.rcParams.update(pgf_with_rc_fonts).bar(index + 2.2*bar_width,h1_writes[:,0]  , bar_width, color='red', error_kw=error_config)+ax.bar(index + 2.2*bar_width, h1_writes[:,1] , bar_width,bottom=h1_writes[:,0], color='gold', error_kw=error_config)+ax.bar(index+2.2*bar_width,h1_writes[:,2] , bar_width,bottom=h1_writes[:,0]+h1_writes[:,1],color='aqua', error_kw=error_config)\n",
    "rects2 = ax.bar(index + 2.2*bar_width, h1_writes[:,0]+h1_writes[:,1]+h1_writes[:,2], bar_width, color='none',hatch='x', error_kw=error_config,label='h=1')\n",
    "rects3 = ax.bar(index + 3.4*bar_width, h2_writes[:,0] , bar_width, color='red',hatch='/',error_kw=error_config)+ax.bar(index + 3.4*bar_width, h2_writes[:,1] , bar_width, bottom=h2_writes[:,0], color='gold',hatch='/',error_kw=error_config)+ax.bar(index+3.4*bar_width, h2_writes[:,2], bar_width,bottom= h2_writes[:,0]+h2_writes[:,1],color='aqua', error_kw=error_config)\n",
    "rects3 = ax.bar(index + 3.4*bar_width, h2_writes[:,0]+h2_writes[:,1]+h2_writes[:,2], bar_width, color='none',hatch='/',error_kw=error_config,label='h=0')\n",
    "\n",
    "# ax.set_ylabel('SpeedUp (GraphMat=1)',fontsize=14,fontweight='bold')\n",
    "ax.set_xticks(index + bar_width*2)\n",
    "ax.set_xticklabels(('<1,.256,4>', '<2,.128,2>', '<5,.05,0.8>','<10,.025,0.4>','<20,.012,0.2>','<1,.256,4>', '<2,.128,2>', '<5,.05,0.8>','<10,.025,0.4>','<20,.012,0.2>','<1,.256,4>', '<2,.128,2>', '<5,.05,0.8>','<10,.025,0.4>','<20,.012,0.2>'))\n",
    "ax.set_ylabel('Fraction of Number of Writes  \\n in DRAM/NVM',fontsize=20,fontweight='bold')\n",
    "ax.set_xlabel('Zipf\\'s Parameter =0.9,                                                         Zipf\\'s Parameter =0.8,                                                                                        Zipf\\'s Parameter =0.7',fontsize=20,fontweight='bold')\n",
    "ax.legend(fontsize=20)\n",
    "# ax.set_ylim( (pow(10,-2),pow(10,3)))\n",
    "fig.tight_layout()\n",
    "plt.rc('xtick', labelsize=16)    # fontsize of the tick labels\n",
    "plt.rc('ytick', labelsize=20)\n",
    "plt.savefig('data_writes.png', bbox_inches = 'tight')\n",
    "plt.show()"
   ]
  },
  {
   "cell_type": "code",
   "execution_count": null,
   "metadata": {},
   "outputs": [],
   "source": [
    "fig, ax = plt.subplots(figsize=(30, 10))\n",
    "base_dir = \"figures/\"\n",
    "error_config = {\"ecolor\": \"0.3\"}\n",
    "index = np.arange((len(var1)))\n",
    "#     plt.axhline(y=var3, color=\"black\", linestyle=\"-\", label=\"Limit\", linewidth=6)\n",
    "ax.bar(\n",
    "    index,\n",
    "    var1,\n",
    "    bar_width,\n",
    "    color=\"blue\",\n",
    "    error_kw=error_config,\n",
    "    label=\"\",\n",
    ")\n",
    "# ax.bar(\n",
    "#     index + 2 * bar_width,\n",
    "#     var2,\n",
    "#     bar_width,\n",
    "#     color=\"red\",\n",
    "#     error_kw=error_config,\n",
    "#     label=\"\",\n",
    "# )\n",
    "ax.legend(fontsize=20)\n",
    "plt.yscale(\"log\")\n",
    "ax.set_xticks(index)\n",
    "ax.set_xticklabels(xticklabels)\n",
    "plt.xticks(rotation=80)\n",
    "plt.rc(\"xtick\", labelsize=20)  # fontsize of the tick labels\n",
    "plt.rc(\"ytick\", labelsize=20)\n",
    "ax.set_ylabel(\"Read Bandwidth\", fontsize=20, fontweight=\"bold\")\n",
    "ax.set_xlabel(\"Graph Nodes\", fontsize=20, fontweight=\"bold\")\n",
    "fig.tight_layout()\n",
    "plt.savefig(base_dir + \"sram.png\", bbox_inches=\"tight\")\n",
    "plt.show()"
   ]
  },
  {
   "cell_type": "markdown",
   "metadata": {},
   "source": [
    "# Material Space"
   ]
  },
  {
   "cell_type": "code",
   "execution_count": null,
   "metadata": {},
   "outputs": [],
   "source": []
  },
  {
   "cell_type": "code",
   "execution_count": null,
   "metadata": {},
   "outputs": [],
   "source": []
  },
  {
   "cell_type": "code",
   "execution_count": null,
   "metadata": {},
   "outputs": [],
   "source": []
  },
  {
   "cell_type": "code",
   "execution_count": null,
   "metadata": {},
   "outputs": [],
   "source": []
  },
  {
   "cell_type": "code",
   "execution_count": null,
   "metadata": {},
   "outputs": [],
   "source": []
  },
  {
   "cell_type": "markdown",
   "metadata": {},
   "source": [
    "# Design Space"
   ]
  },
  {
   "cell_type": "code",
   "execution_count": null,
   "metadata": {},
   "outputs": [],
   "source": []
  },
  {
   "cell_type": "code",
   "execution_count": null,
   "metadata": {},
   "outputs": [],
   "source": []
  },
  {
   "cell_type": "code",
   "execution_count": null,
   "metadata": {},
   "outputs": [],
   "source": []
  },
  {
   "cell_type": "code",
   "execution_count": null,
   "metadata": {},
   "outputs": [],
   "source": []
  },
  {
   "cell_type": "code",
   "execution_count": null,
   "metadata": {},
   "outputs": [],
   "source": []
  },
  {
   "cell_type": "code",
   "execution_count": null,
   "metadata": {},
   "outputs": [],
   "source": []
  },
  {
   "cell_type": "code",
   "execution_count": null,
   "metadata": {},
   "outputs": [],
   "source": []
  }
 ],
 "metadata": {
  "kernelspec": {
   "display_name": "Python 3.6.4 64-bit ('dl': conda)",
   "language": "python",
   "name": "python36464bitdlconda74ce50dd77ab450dad146f0ee6a8041f"
  },
  "language_info": {
   "codemirror_mode": {
    "name": "ipython",
    "version": 3
   },
   "file_extension": ".py",
   "mimetype": "text/x-python",
   "name": "python",
   "nbconvert_exporter": "python",
   "pygments_lexer": "ipython3",
   "version": "3.6.4"
  }
 },
 "nbformat": 4,
 "nbformat_minor": 2
}
