{
 "cells": [
  {
   "cell_type": "code",
   "execution_count": null,
   "metadata": {
    "scrolled": false
   },
   "outputs": [],
   "source": [
    "%load_ext autoreload\n",
    "\n",
    "%autoreload 2"
   ]
  },
  {
   "cell_type": "code",
   "execution_count": null,
   "metadata": {
    "scrolled": false
   },
   "outputs": [],
   "source": [
    "import glob\n",
    "import os\n",
    "import sys\n",
    "from collections import deque\n",
    "from copy import deepcopy\n",
    "\n",
    "import numpy as np\n",
    "import torch\n",
    "import torch.nn as nn\n",
    "import yaml\n",
    "import yamlordereddictloader\n",
    "\n",
    "from torchvision import models\n",
    "from yaml import dump\n",
    "from main import run_illusion_sim"
   ]
  },
  {
   "cell_type": "code",
   "execution_count": null,
   "metadata": {
    "scrolled": true
   },
   "outputs": [],
   "source": [
    "from scheduling import Scheduling\n",
    "from generator import Generator, get_mem_props\n",
    "from generator import *\n",
    "from utils.visualizer import *\n",
    "from main import design_tech_runner, design_runner\n"
   ]
  },
  {
   "cell_type": "code",
   "execution_count": null,
   "metadata": {
    "scrolled": true,
    "tags": []
   },
   "outputs": [],
   "source": [
    "from common_models import vggnet_graph, resnet_graph, bert_graph, gpt2_graph, dlrm_graph\n",
    "# design_runner([vggnet_graph()])\n",
    "# # for node in dlrm_graph.nodes:\n",
    "# #     print(node.in_edge_mem + node.mem_fetch + node.out_edge_mem, node.compute_expense )\n",
    "\n",
    "# design_tech_runner([dlrm_graph])\n",
    "vgg11_graph = vggnet_graph()\n",
    "resnet_graph_data = resnet_graph()\n",
    "dlrm_graph_data = dlrm_graph()\n",
    "bert_graph_data = bert_graph()\n",
    "gpt2_graph_data = gpt2_graph()\n",
    "\n",
    "\n",
    "\n"
   ]
  },
  {
   "cell_type": "code",
   "execution_count": null,
   "metadata": {},
   "outputs": [],
   "source": [
    "# run_illusion_sim(vgg11_graph, False)\n",
    "# run_illusion_sim(resnet_graph_data, False)\n",
    "# run_illusion_sim(bert_graph_data, False)\n",
    "# run_illusion_sim(dlrm_graph_data, False)"
   ]
  },
  {
   "cell_type": "code",
   "execution_count": null,
   "metadata": {
    "scrolled": false,
    "tags": []
   },
   "outputs": [],
   "source": [
    "# from gnn_model import gnn_graph\n",
    "# from gan_model import gan_graph\n",
    "# from dart_model import dart_graph\n",
    "# from a3c_model import a3c_graph\n",
    "# design_tech_runner([gnn_graph])\n",
    "# design_tech_runner([dart_graph()])\n",
    "# design_tech_runner([a3c_graph()]) # Actor Critic\n",
    "\n",
    "# gan_graph in inference netG\n",
    "# design_tech_runner([gan_graph()])\n",
    "\n",
    "# # gan_graph in training netD(training)*2 + netG(inference) + (netG+netD)-> training \n",
    "# graph1, graph2 = gan_graph(True)\n",
    "# design_tech_runner([]) "
   ]
  },
  {
   "cell_type": "code",
   "execution_count": null,
   "metadata": {
    "scrolled": false
   },
   "outputs": [],
   "source": [
    "# vgg11_graph = vggnet_graph()\n",
    "# resnet_graph_data = resnet_graph()\n",
    "# dlrm_graph_data = dlrm_graph()\n",
    "bert_graph_data = bert_graph()\n",
    "\n",
    "# # gpt2_graph_data = gpt2_graph()\n",
    "# # design_tech_runner([resnet_graph_data], print_stats= False)\n",
    "design_tech_runner([bert_graph_data], print_stats= False)"
   ]
  },
  {
   "cell_type": "code",
   "execution_count": null,
   "metadata": {},
   "outputs": [],
   "source": []
  },
  {
   "cell_type": "code",
   "execution_count": null,
   "metadata": {
    "scrolled": false
   },
   "outputs": [],
   "source": [
    "# for j in range(0,5):\n",
    "#     for i in range(5,15):\n",
    "#         scheduler = Scheduling()\n",
    "#         scheduler.config[\"memory\"][\"level1\"][\"frequency\"]=5\n",
    "#         scheduler.config[\"memory\"][\"level1\"][\"frequency\"]*=2**j\n",
    "#         memory = scheduler.config[\"memory\"][\"level1\"]\n",
    "#         scheduler.mem_read_bw[1] = memory[\"frequency\"]*memory[\"banks\"]*memory[\"read_ports\"]*memory[\"width\"]\n",
    "#         scheduler.config[\"memory\"][\"level0\"][\"size\"]=10**(i/2)\n",
    "#         scheduler.mem_size[0] = 10**(i/2)\n",
    "#         print(scheduler.mem_read_bw[1], scheduler.mem_size[0])\n",
    "#         print(\"Config i : \",i , \", j :\", j)\n",
    "#         design_runner([dlrm_graph], scheduler)\n"
   ]
  },
  {
   "cell_type": "code",
   "execution_count": null,
   "metadata": {
    "scrolled": true
   },
   "outputs": [],
   "source": [
    "# graph_list = [vgg11_graph,  bert_graph_data, gpt2_graph_data]\n",
    "# name = [\"vgg_graph\",\"bert_graph\",\"gpt2_graph\"]\n",
    "# graph_list = [dlrm_graph_data]\n",
    "# name = [\"dlrm_graph\"]\n"
   ]
  },
  {
   "cell_type": "markdown",
   "metadata": {},
   "source": [
    "# Technology Tables"
   ]
  },
  {
   "cell_type": "code",
   "execution_count": null,
   "metadata": {},
   "outputs": [],
   "source": [
    "import numpy as np\n",
    "import pandas as pd\n",
    "d = pd.read_csv('tables/sram.csv')\n",
    "a = np.array(d)\n",
    "\n",
    "# input = a[:,:3]\n",
    "# output = a[:,3:]\n"
   ]
  },
  {
   "cell_type": "code",
   "execution_count": null,
   "metadata": {},
   "outputs": [],
   "source": [
    "# # d = pd.read_csv('plugins/cacti/bus_width.out')\n",
    "# d = pd.read_csv('plugins/cacti/cache.cfg.out')\n",
    "\n",
    "# d = d.drop(d.columns[[12,13,14,15,16,17,18,19,20,21,22,23,24,25,26]], axis=1)\n",
    "\n",
    "# d = d.drop(' Associativity',1)\n",
    "# d = d.drop(' Dynamic search energy (nJ)',1)\n",
    "# d\n"
   ]
  },
  {
   "cell_type": "code",
   "execution_count": null,
   "metadata": {},
   "outputs": [],
   "source": [
    "a= np.array(d)\n",
    "np.savetxt('logic.csv',a, fmt='%.18e', delimiter=',')\n",
    "\n"
   ]
  },
  {
   "cell_type": "code",
   "execution_count": null,
   "metadata": {},
   "outputs": [],
   "source": [
    "# bar_graph(\"read_dummy.png\", read_bw_req, read_bw_actual, read_bw_limit, graph.nodes)\n"
   ]
  },
  {
   "cell_type": "code",
   "execution_count": null,
   "metadata": {},
   "outputs": [],
   "source": [
    "mem_table = np.array(pd.read_csv(\"tables/sram.csv\", header=None))\n",
    "a = mem_table[np.where(mem_table[:, 1] == 4)]\n",
    "a = a[np.where(a[:, 2] == 32)]"
   ]
  },
  {
   "cell_type": "code",
   "execution_count": null,
   "metadata": {},
   "outputs": [],
   "source": [
    "from dot import *"
   ]
  },
  {
   "cell_type": "code",
   "execution_count": null,
   "metadata": {},
   "outputs": [],
   "source": [
    "dot_rep = make_graph_from_trace()"
   ]
  },
  {
   "cell_type": "code",
   "execution_count": null,
   "metadata": {},
   "outputs": [],
   "source": [
    "import torch\n",
    "import torch.nn as nn\n",
    "inputs = torch.randn(1,1,4,4)\n",
    "model = nn.Conv2d(1, 4, 3, 1, 1, bias=False)\n",
    "input_graph=trace(model, inputs)\n",
    "design_tech_runner([input_graph], backprop=False,print_stats=True)"
   ]
  },
  {
   "cell_type": "markdown",
   "metadata": {},
   "source": [
    "## Analyze N3XT\n",
    "\n"
   ]
  },
  {
   "cell_type": "markdown",
   "metadata": {},
   "source": [
    "## TSMC"
   ]
  },
  {
   "cell_type": "code",
   "execution_count": null,
   "metadata": {},
   "outputs": [],
   "source": [
    "import torch\n",
    "import torch.nn as nn\n",
    "inputs = torch.randn(1,1,4,4)\n",
    "model = nn.Conv2d(1, 4, 3, 1, 0, bias=False)\n",
    "input_graph=trace(model, inputs)\n",
    "# design_tech_runner([input_graph], backprop=False,print_stats=True)"
   ]
  },
  {
   "cell_type": "code",
   "execution_count": null,
   "metadata": {},
   "outputs": [],
   "source": [
    "# print(input_graph)"
   ]
  },
  {
   "cell_type": "code",
   "execution_count": null,
   "metadata": {},
   "outputs": [],
   "source": []
  }
 ],
 "metadata": {
  "kernelspec": {
   "display_name": "Python 3.6.4 64-bit ('dl': conda)",
   "language": "python",
   "name": "python36464bitdlconda74ce50dd77ab450dad146f0ee6a8041f"
  },
  "language_info": {
   "codemirror_mode": {
    "name": "ipython",
    "version": 3
   },
   "file_extension": ".py",
   "mimetype": "text/x-python",
   "name": "python",
   "nbconvert_exporter": "python",
   "pygments_lexer": "ipython3",
   "version": "3.6.4"
  }
 },
 "nbformat": 4,
 "nbformat_minor": 2
}
