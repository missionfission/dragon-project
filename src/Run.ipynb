{
 "cells": [
  {
   "cell_type": "code",
   "execution_count": 1,
   "metadata": {
    "scrolled": true
   },
   "outputs": [],
   "source": [
    "%load_ext autoreload\n",
    "\n",
    "%autoreload 2"
   ]
  },
  {
   "cell_type": "code",
   "execution_count": 2,
   "metadata": {
    "scrolled": false
   },
   "outputs": [],
   "source": [
    "import glob\n",
    "import os\n",
    "import sys\n",
    "from collections import deque\n",
    "from copy import deepcopy\n",
    "\n",
    "import numpy as np\n",
    "import torch\n",
    "import torch.nn as nn\n",
    "import yaml\n",
    "import yamlordereddictloader\n",
    "\n",
    "from torchvision import models\n",
    "from yaml import dump\n",
    "from dlrm.dlrm_s_pytorch import DLRM_Net, dash_separated_ints, dash_separated_floats\n",
    "from ir.handlers import handlers\n",
    "from ir.trace import trace\n",
    "from ir.trace import get_backprop_memory\n",
    "from utils.logger import create_logger\n",
    "from utils.visualizer import plot_descent\n",
    "from utils.visualizer import *"
   ]
  },
  {
   "cell_type": "code",
   "execution_count": 14,
   "metadata": {
    "scrolled": true
   },
   "outputs": [],
   "source": [
    "from generator import Generator, get_mem_props, get_compute_props\n",
    "from generator import *\n",
    "from utils.visualizer import *\n",
    "from main import runner_forward"
   ]
  },
  {
   "cell_type": "code",
   "execution_count": 20,
   "metadata": {
    "scrolled": true,
    "tags": []
   },
   "outputs": [
    {
     "name": "stdout",
     "output_type": "stream",
     "text": [
      "[] [] []\n",
      "[1, 16, 3072] [1, 16, 3072] []\n",
      "[1, 16, 3072] [1, 16, 3072] []\n",
      "[1, 16, 3072] [1, 16, 3072] []\n",
      "[1, 16, 3072] [1, 16, 3072] [1, 16, 3072]\n",
      "[] [] []\n",
      "[1, 16, 3072] [1, 16, 3072] []\n",
      "[1, 16, 3072] [1, 16, 3072] []\n",
      "[1, 16, 3072] [1, 16, 3072] []\n",
      "[1, 16, 3072] [1, 16, 3072] [1, 16, 3072]\n",
      "[] [] []\n",
      "[1, 16, 3072] [1, 16, 3072] []\n",
      "[1, 16, 3072] [1, 16, 3072] []\n",
      "[1, 16, 3072] [1, 16, 3072] []\n",
      "[1, 16, 3072] [1, 16, 3072] [1, 16, 3072]\n",
      "[] [] []\n",
      "[1, 16, 3072] [1, 16, 3072] []\n",
      "[1, 16, 3072] [1, 16, 3072] []\n",
      "[1, 16, 3072] [1, 16, 3072] []\n",
      "[1, 16, 3072] [1, 16, 3072] [1, 16, 3072]\n",
      "[] [] []\n",
      "[1, 16, 3072] [1, 16, 3072] []\n",
      "[1, 16, 3072] [1, 16, 3072] []\n",
      "[1, 16, 3072] [1, 16, 3072] []\n",
      "[1, 16, 3072] [1, 16, 3072] [1, 16, 3072]\n",
      "[] [] []\n",
      "[1, 16, 3072] [1, 16, 3072] []\n",
      "[1, 16, 3072] [1, 16, 3072] []\n",
      "[1, 16, 3072] [1, 16, 3072] []\n",
      "[1, 16, 3072] [1, 16, 3072] [1, 16, 3072]\n",
      "[] [] []\n",
      "[1, 16, 3072] [1, 16, 3072] []\n",
      "[1, 16, 3072] [1, 16, 3072] []\n",
      "[1, 16, 3072] [1, 16, 3072] []\n",
      "[1, 16, 3072] [1, 16, 3072] [1, 16, 3072]\n",
      "[] [] []\n",
      "[1, 16, 3072] [1, 16, 3072] []\n",
      "[1, 16, 3072] [1, 16, 3072] []\n",
      "[1, 16, 3072] [1, 16, 3072] []\n",
      "[1, 16, 3072] [1, 16, 3072] [1, 16, 3072]\n",
      "[] [] []\n",
      "[1, 16, 3072] [1, 16, 3072] []\n",
      "[1, 16, 3072] [1, 16, 3072] []\n",
      "[1, 16, 3072] [1, 16, 3072] []\n",
      "[1, 16, 3072] [1, 16, 3072] [1, 16, 3072]\n",
      "[] [] []\n",
      "[1, 16, 3072] [1, 16, 3072] []\n",
      "[1, 16, 3072] [1, 16, 3072] []\n",
      "[1, 16, 3072] [1, 16, 3072] []\n",
      "[1, 16, 3072] [1, 16, 3072] [1, 16, 3072]\n",
      "[] [] []\n",
      "[1, 16, 3072] [1, 16, 3072] []\n",
      "[1, 16, 3072] [1, 16, 3072] []\n",
      "[1, 16, 3072] [1, 16, 3072] []\n",
      "[1, 16, 3072] [1, 16, 3072] [1, 16, 3072]\n",
      "[] [] []\n",
      "[1, 16, 3072] [1, 16, 3072] []\n",
      "[1, 16, 3072] [1, 16, 3072] []\n",
      "[1, 16, 3072] [1, 16, 3072] []\n",
      "[1, 16, 3072] [1, 16, 3072] [1, 16, 3072]\n",
      "==================================\n",
      "Time 4866509 4763679 0 0\n",
      "Energy 17673202 17420829 3510077 2806623 1213386 1755463 0 4866509\n",
      "memory accesses 91951116 91951116 4866509 87773184\n",
      "Design Params 2 1000000 1000 0.0381733\n",
      "Tech Params [1, 1, 40]\n"
     ]
    },
    {
     "ename": "AssertionError",
     "evalue": "",
     "output_type": "error",
     "traceback": [
      "\u001b[0;31m---------------------------------------------------------------------------\u001b[0m",
      "\u001b[0;31mAssertionError\u001b[0m                            Traceback (most recent call last)",
      "\u001b[0;32m<ipython-input-20-b677c6d843cb>\u001b[0m in \u001b[0;36m<module>\u001b[0;34m()\u001b[0m\n\u001b[1;32m     13\u001b[0m \u001b[0;31m# runner_forward([bert_graph])\u001b[0m\u001b[0;34m\u001b[0m\u001b[0;34m\u001b[0m\u001b[0m\n\u001b[1;32m     14\u001b[0m \u001b[0mgpt2_graph\u001b[0m \u001b[0;34m=\u001b[0m \u001b[0mgpt2_graph\u001b[0m\u001b[0;34m(\u001b[0m\u001b[0;34m)\u001b[0m\u001b[0;34m\u001b[0m\u001b[0m\n\u001b[0;32m---> 15\u001b[0;31m \u001b[0mrunner_forward\u001b[0m\u001b[0;34m(\u001b[0m\u001b[0;34m[\u001b[0m\u001b[0mgpt2_graph\u001b[0m\u001b[0;34m]\u001b[0m\u001b[0;34m)\u001b[0m\u001b[0;34m\u001b[0m\u001b[0m\n\u001b[0m\u001b[1;32m     16\u001b[0m \u001b[0;31m# runner_forward([a3c_graph]) # Actor Critic\u001b[0m\u001b[0;34m\u001b[0m\u001b[0;34m\u001b[0m\u001b[0m\n\u001b[1;32m     17\u001b[0m \u001b[0;31m# runner_forward([gan_graph])\u001b[0m\u001b[0;34m\u001b[0m\u001b[0;34m\u001b[0m\u001b[0m\n",
      "\u001b[0;32m/media/khushal/679f068d-921b-4d14-890f-3081c1728f98/research/SM/Adas/src/main.py\u001b[0m in \u001b[0;36mrunner_forward\u001b[0;34m(graph_set)\u001b[0m\n\u001b[1;32m     53\u001b[0m         \u001b[0;31m#         in_time, in_energy, design, tech = generator.save_stats(scheduler)\u001b[0m\u001b[0;34m\u001b[0m\u001b[0;34m\u001b[0m\u001b[0m\n\u001b[1;32m     54\u001b[0m         in_time, in_energy, design, tech = generator.save_stats(\n\u001b[0;32m---> 55\u001b[0;31m             \u001b[0mscheduler\u001b[0m\u001b[0;34m,\u001b[0m \u001b[0;32mTrue\u001b[0m\u001b[0;34m,\u001b[0m \u001b[0mget_backprop_memory\u001b[0m\u001b[0;34m(\u001b[0m\u001b[0mgraph\u001b[0m\u001b[0;34m.\u001b[0m\u001b[0mnodes\u001b[0m\u001b[0;34m)\u001b[0m\u001b[0;34m\u001b[0m\u001b[0m\n\u001b[0m\u001b[1;32m     56\u001b[0m         )\n\u001b[1;32m     57\u001b[0m         \u001b[0mprint\u001b[0m\u001b[0;34m(\u001b[0m\u001b[0;34m\"======Optimizing Design and Connectivity=========\"\u001b[0m\u001b[0;34m)\u001b[0m\u001b[0;34m\u001b[0m\u001b[0m\n",
      "\u001b[0;32m/media/khushal/679f068d-921b-4d14-890f-3081c1728f98/research/SM/Adas/src/generator.py\u001b[0m in \u001b[0;36msave_stats\u001b[0;34m(self, scheduler, backprop, backprop_memory)\u001b[0m\n\u001b[1;32m    330\u001b[0m     \u001b[0;32massert\u001b[0m \u001b[0mscheduler\u001b[0m\u001b[0;34m.\u001b[0m\u001b[0mtotal_cycles\u001b[0m \u001b[0;34m>\u001b[0m \u001b[0mscheduler\u001b[0m\u001b[0;34m.\u001b[0m\u001b[0mmem_size_idle_time\u001b[0m\u001b[0;34m\u001b[0m\u001b[0m\n\u001b[1;32m    331\u001b[0m     \u001b[0;32massert\u001b[0m \u001b[0mscheduler\u001b[0m\u001b[0;34m.\u001b[0m\u001b[0mbandwidth_idle_time\u001b[0m \u001b[0;34m>=\u001b[0m \u001b[0;36m0\u001b[0m\u001b[0;34m\u001b[0m\u001b[0m\n\u001b[0;32m--> 332\u001b[0;31m     \u001b[0;32massert\u001b[0m \u001b[0mscheduler\u001b[0m\u001b[0;34m.\u001b[0m\u001b[0mmem_size_idle_time\u001b[0m \u001b[0;34m>\u001b[0m \u001b[0;36m0\u001b[0m\u001b[0;34m\u001b[0m\u001b[0m\n\u001b[0m\u001b[1;32m    333\u001b[0m     return (\n\u001b[1;32m    334\u001b[0m         [\n",
      "\u001b[0;31mAssertionError\u001b[0m: "
     ]
    }
   ],
   "source": [
    "from common_models import vggnet_graph, resnet_graph, bert_graph, gpt2_graph, dlrm_graph\n",
    "# print(\"=====================================VGG-Net=============================================\")\n",
    "# vgg11_graph = vggnet_graph()\n",
    "# runner_forward([vgg11_graph])\n",
    "\n",
    "# print(\"=====================================ResNet===============================================\")\n",
    "# runner_forward([resnet_graph])\n",
    "# dlrm_graph = dlrm_graph()\n",
    "# runner_forward([dlrm_graph])\n",
    "# runner_forward([gnn_graph])\n",
    "# runner_forward([dart_graph])\n",
    "# bert_graph = bert_graph()\n",
    "# runner_forward([bert_graph])\n",
    "gpt2_graph = gpt2_graph()\n",
    "runner_forward([gpt2_graph])\n",
    "# runner_forward([a3c_graph]) # Actor Critic\n",
    "# runner_forward([gan_graph]) "
   ]
  },
  {
   "cell_type": "markdown",
   "metadata": {},
   "source": [
    "## Plot Descent"
   ]
  },
  {
   "cell_type": "code",
   "execution_count": 5,
   "metadata": {
    "scrolled": true
   },
   "outputs": [],
   "source": [
    "# scheduler = Scheduling()\n",
    "# time_list, bandwidth_time_list, mem_size_idle_time_list, bank_list, mem_size_list, compute_list, tech_params = runner([vgg11_graph], scheduler)\n",
    "# plot_descent(time_list, bandwidth_time_list, mem_size_idle_time_list)\n",
    "# print(tech_params)\n",
    "# # Plot Design Parameters change over time\n",
    "# plot_design_param_change(bank_list, mem_size_list, compute_list)\n",
    "# # Plot Technology Parameters change over time\n",
    "# plot_tech_param_change(np.transpose(np.array(tech_params)))"
   ]
  },
  {
   "cell_type": "markdown",
   "metadata": {},
   "source": [
    "## Multiple Sweep Memory Banks/Connectivity"
   ]
  },
  {
   "cell_type": "code",
   "execution_count": 6,
   "metadata": {
    "scrolled": false
   },
   "outputs": [],
   "source": [
    "# fig, ax = plt.subplots(figsize=(10, 10))\n",
    "# ax2 = ax.twinx()\n",
    "# base_dir = \"figures/\"\n",
    "# error_config = {\"ecolor\": \"0.3\"}\n",
    "# index = np.arange(6)\n",
    "# j=0\n",
    "# scheduler.config[\"memory\"][\"level1\"][\"frequency\"]=5\n",
    "# scheduler.config[\"memory\"][\"level1\"][\"frequency\"]*=2**j\n",
    "# time_list, bandwidth_time_list,_,bank_list,_,_,_= runner([vgg11_graph],scheduler)\n",
    "# plot_time_descent_multiple(ax, time_list, bandwidth_time_list, time_list_label=\"Execution time\")\n",
    "# plot_parameter_change_multiple(ax2, bank_list)\n",
    "# for j in range(1,5):\n",
    "#     scheduler = Scheduling()\n",
    "#     scheduler.config[\"memory\"][\"level1\"][\"frequency\"]=5\n",
    "#     scheduler.config[\"memory\"][\"level1\"][\"frequency\"]*=2**j\n",
    "#     time_list, bandwidth_time_list,_,bank_list,_,_,_= runner([vgg11_graph],scheduler)\n",
    "#     plot_time_descent_multiple(ax, time_list, bandwidth_time_list)\n",
    "#     plot_parameter_change_multiple(ax2, bank_list)\n",
    "# ax.legend(fontsize=20)\n",
    "# ax.set_xticks(index)\n",
    "# plt.xticks(rotation=80)\n",
    "# plt.rc(\"xtick\", labelsize=20)  # fontsize of the tick labels\n",
    "# plt.rc(\"ytick\", labelsize=20)\n",
    "# ax.set_ylabel(\"Execution time\", fontsize=20, fontweight=\"bold\")\n",
    "# ax2.set_ylabel(\"External Memory Connectivity\", fontsize=20, fontweight=\"bold\")\n",
    "# ax.set_xlabel(\"Number of Iterations\", fontsize=20, fontweight=\"bold\")\n",
    "# ax2.set_ylabel(\"\")\n",
    "# fig.tight_layout()\n",
    "# plt.yscale(\"log\")\n",
    "# plt.savefig(base_dir + \"multiple_bandwidth.png\", bbox_inches=\"tight\")\n",
    "# plt.show()"
   ]
  },
  {
   "cell_type": "markdown",
   "metadata": {},
   "source": [
    "## Multiple Sweep Memory Size"
   ]
  },
  {
   "cell_type": "code",
   "execution_count": 7,
   "metadata": {
    "scrolled": false
   },
   "outputs": [],
   "source": [
    "# fig, ax = plt.subplots(figsize=(10, 10))\n",
    "# ax2 = ax.twinx()\n",
    "# base_dir = \"figures/\"\n",
    "# error_config = {\"ecolor\": \"0.3\"}\n",
    "# index = np.arange(6)\n",
    "# scheduler = Scheduling()\n",
    "# i=5\n",
    "# scheduler.config[\"memory\"][\"level0\"][\"size\"]=10**(i/2)\n",
    "# time_list, bandwidth_time_list,mem_size_idle_time_list, bank_list, mem_size_list, compute_list,_ = runner([vgg11_graph],scheduler)\n",
    "# plot_time_descent_multiple(ax, time_list, mem_size_idle_time_list, time_list_label=\"Execution time\", descent_list_label=\"Gradient Descent\")\n",
    "# plot_parameter_change_multiple(ax2, mem_size_list, parameter_label = \"Global Memory Size\")\n",
    "# for i in range(6,10):\n",
    "#     scheduler.config[\"memory\"][\"level0\"][\"size\"]=10**(i/2)\n",
    "#     time_list, bandwidth_time_list,mem_size_idle_time_list, bank_list, mem_size_list, compute_list,_ = runner([vgg11_graph],scheduler)\n",
    "#     plot_time_descent_multiple(ax, time_list, mem_size_idle_time_list)\n",
    "#     plot_parameter_change_multiple(ax2, mem_size_list)\n",
    "# ax.legend(fontsize=20)\n",
    "# ax.set_xticks(index)\n",
    "# plt.xticks(rotation=80)\n",
    "# plt.rc(\"xtick\", labelsize=20)  # fontsize of the tick labels\n",
    "# plt.rc(\"ytick\", labelsize=20)\n",
    "# ax.set_ylabel(\"Total Execution time\", fontsize=20, fontweight=\"bold\")\n",
    "# ax2.set_ylabel(\"Global Memory Size\", fontsize=20, fontweight=\"bold\")\n",
    "# ax.set_xlabel(\"Number of Iterations\", fontsize=20, fontweight=\"bold\")\n",
    "# fig.tight_layout()\n",
    "# plt.yscale(\"log\")\n",
    "# plt.savefig(base_dir + \"memory_size_multiple.png\", bbox_inches=\"tight\")\n",
    "# plt.show()"
   ]
  },
  {
   "cell_type": "markdown",
   "metadata": {},
   "source": [
    "# Technology Tables"
   ]
  },
  {
   "cell_type": "code",
   "execution_count": 8,
   "metadata": {},
   "outputs": [],
   "source": [
    "import numpy as np\n",
    "import pandas as pd\n",
    "d = pd.read_csv('tables/sram.csv')\n",
    "a = np.array(d)\n",
    "\n",
    "input = a[:,:3]\n",
    "# output = a[:,3:]\n"
   ]
  },
  {
   "cell_type": "code",
   "execution_count": 9,
   "metadata": {},
   "outputs": [],
   "source": [
    "d = pd.read_csv('plugins/cacti/bus_width.out')\n",
    "\n",
    "\n",
    "d = d.drop(d.columns[[0,12,13,14,15,16,17,18,19,20,21,22,23,24,25,26]], axis=1)\n",
    "\n",
    "d = d.drop(' Associativity',1)\n",
    "d = d.drop(' Dynamic search energy (nJ)',1)"
   ]
  },
  {
   "cell_type": "code",
   "execution_count": 10,
   "metadata": {},
   "outputs": [],
   "source": [
    "a= np.array(d)\n",
    "np.savetxt('bus.csv',a, fmt='%.18e', delimiter=',')\n",
    "\n"
   ]
  },
  {
   "cell_type": "code",
   "execution_count": 11,
   "metadata": {},
   "outputs": [],
   "source": [
    "# bar_graph(\"read_dummy.png\", read_bw_req, read_bw_actual, read_bw_limit, graph.nodes)\n"
   ]
  },
  {
   "cell_type": "code",
   "execution_count": 12,
   "metadata": {},
   "outputs": [],
   "source": [
    "mem_table = np.array(pd.read_csv(\"tables/sram.csv\", header=None))\n",
    "a = mem_table[np.where(mem_table[:, 1] == 4)]\n",
    "a = a[np.where(a[:, 2] == 32)]"
   ]
  },
  {
   "cell_type": "markdown",
   "metadata": {},
   "source": [
    "compute:\n",
    "    name       : MACs\n",
    "        class      : mac\n",
    "        attributes :            \n",
    "        instances       : 256\n",
    "        meshX           : 16\n",
    "        word-bits       : 16\n",
    "\n",
    "    memory: \n",
    "        name       : DRAM\n",
    "        class      : DRAM\n",
    "        attributes :\n",
    "        instances       : 1\n",
    "        word-bits       : 16\n",
    "  \n",
    "    name       : OutputBuffer\n",
    "        class      : SRAM\n",
    "        attributes :\n",
    "        entries         : 1024  # 64 * 16 = 1024\n",
    "        instances       : 1\n",
    "        meshX           : 1\n",
    "        word-bits       : 16\n",
    "        block-size      : 16\n",
    "        read_bandwidth  : 16 # words/cycle\n",
    "        write_bandwidth : 16 # words/cycle\n",
    "\n",
    "        name       : InputBuffer\n",
    "            class      : SRAM\n",
    "            attributes :\n",
    "            entries         : 1024 # 64 * 16 = 1024\n",
    "            instances       : 1\n",
    "            meshX           : 1\n",
    "            word-bits       : 16\n",
    "            block-size      : 16\n",
    "            read_bandwidth  : 16 # words/cycle\n",
    "            write_bandwidth : 16 # words/cycle\n",
    "\n",
    "        name       : PsumRegFile\n",
    "            class      : regfile\n",
    "            attributes :\n",
    "            entries         : 1\n",
    "            instances       : 16\n",
    "            meshX           : 16\n",
    "            word-bits       : 16\n",
    "            cluster-size    : 16\n",
    "            read_bandwidth  : 1  # words/cycle\n",
    "            write_bandwidth : 1  # words/cycle\n",
    "            \n",
    "        name       : WeightBuffer\n",
    "            class      : regfile\n",
    "            attributes :\n",
    "            entries         : 64\n",
    "            instances       : 256\n",
    "            meshX           : 16\n",
    "            word-bits       : 16\n",
    "            cluster-size    : 256\n",
    "            read_bandwidth  : 1  # words/cycle\n",
    "            write_bandwidth : 1  # words/cycle\n",
    "    noc:\n",
    "\n"
   ]
  },
  {
   "cell_type": "code",
   "execution_count": 4,
   "metadata": {},
   "outputs": [],
   "source": [
    "from dot import *"
   ]
  },
  {
   "cell_type": "code",
   "execution_count": null,
   "metadata": {},
   "outputs": [],
   "source": [
    "dot_rep = make_graph_from_trace()"
   ]
  }
 ],
 "metadata": {
  "kernelspec": {
   "display_name": "Python 3.6.4 64-bit ('dl': conda)",
   "language": "python",
   "name": "python36464bitdlconda74ce50dd77ab450dad146f0ee6a8041f"
  },
  "language_info": {
   "codemirror_mode": {
    "name": "ipython",
    "version": 3
   },
   "file_extension": ".py",
   "mimetype": "text/x-python",
   "name": "python",
   "nbconvert_exporter": "python",
   "pygments_lexer": "ipython3",
   "version": "3.6.4"
  }
 },
 "nbformat": 4,
 "nbformat_minor": 2
}
