{
 "cells": [
  {
   "cell_type": "code",
   "execution_count": 1,
   "metadata": {
    "scrolled": false
   },
   "outputs": [],
   "source": [
    "%load_ext autoreload\n",
    "\n",
    "%autoreload 2"
   ]
  },
  {
   "cell_type": "code",
   "execution_count": 2,
   "metadata": {
    "scrolled": false
   },
   "outputs": [],
   "source": [
    "import glob\n",
    "import os\n",
    "import sys\n",
    "from collections import deque\n",
    "from copy import deepcopy\n",
    "\n",
    "import numpy as np\n",
    "import torch\n",
    "import torch.nn as nn\n",
    "import yaml\n",
    "import yamlordereddictloader\n",
    "\n",
    "from torchvision import models\n",
    "from yaml import dump\n"
   ]
  },
  {
   "cell_type": "code",
   "execution_count": 4,
   "metadata": {
    "scrolled": true,
    "tags": []
   },
   "outputs": [],
   "source": [
    "# from scheduling import Scheduling\n",
    "# from generator import Generator, get_mem_props\n",
    "# from generator import *\n",
    "# from utils.visualizer import *\n",
    "# from ir.trace import trace\n",
    "# from main import perf\n"
   ]
  },
  {
   "cell_type": "code",
   "execution_count": 4,
   "metadata": {
    "scrolled": true,
    "tags": []
   },
   "outputs": [
    {
     "name": "stderr",
     "output_type": "stream",
     "text": [
      "I0203 10:36:14.595549 139645829887744 file_utils.py:39] PyTorch version 1.5.0 available.\n",
      "/home/khushal/anaconda2/envs/dl/lib/python3.6/site-packages/h5py/__init__.py:36: FutureWarning: Conversion of the second argument of issubdtype from `float` to `np.floating` is deprecated. In future, it will be treated as `np.float64 == np.dtype(float).type`.\n",
      "  from ._conv import register_converters as _register_converters\n"
     ]
    }
   ],
   "source": [
    "from common_models import alexnet_graph, vggnet_graph, resnet_graph, bert_graph, gpt2_graph, dlrm_graph, alexnet_graph, langmodel_graph\n",
    "# design_runner([vggnet_graph()])\n",
    "# # for node in dlrm_graph.nodes:\n",
    "# #     print(node.in_edge_mem + node.mem_fetch + node.out_edge_mem, node.compute_expense )\n",
    "\n",
    "# design_tech_runner([dlrm_graph])\n",
    "vgg11_graph = vggnet_graph()\n",
    "resnet_graph_data = resnet_graph()\n",
    "alexnet_data = alexnet_graph()\n",
    "langmod_graph1, langmod_graph2 = langmodel_graph()\n",
    "# dlrm_graph_data = dlrm_graph()\n",
    "bert_graph_data = bert_graph()\n",
    "gpt2_graph_data = gpt2_graph()\n",
    "\n",
    "\n",
    "\n"
   ]
  },
  {
   "cell_type": "code",
   "execution_count": null,
   "metadata": {},
   "outputs": [],
   "source": []
  },
  {
   "cell_type": "code",
   "execution_count": 5,
   "metadata": {},
   "outputs": [],
   "source": [
    "# import torchvision.models as models\n",
    "# import torch\n",
    "\n",
    "# for name, model in models.__dict__.items():\n",
    "# #             print(name)\n",
    "#         if not name.islower() or name.startswith(\"__\") or not callable(model):\n",
    "#         #             print(name.islower())\n",
    "#             continue\n",
    "# #         print(name)\n",
    "#         if \"alexnet\" in name:\n",
    "#             model = model().eval()\n",
    "#             inputs = torch.randn(1, 3, 224, 224)\n",
    "#             alexnet_graph = trace(model, inputs)\n",
    "#             break\n",
    "#     return resnet_graph"
   ]
  },
  {
   "cell_type": "code",
   "execution_count": 6,
   "metadata": {
    "scrolled": false,
    "tags": []
   },
   "outputs": [],
   "source": [
    "# from gnn_model import gnn_graph\n",
    "# from gan_model import gan_graph\n",
    "# from dart_model import dart_graph\n",
    "# from a3c_model import a3c_graph\n",
    "# design_tech_runner([gnn_graph])\n",
    "# design_tech_runner([dart_graph()])\n",
    "# design_tech_runner([a3c_graph()]) # Actor Critic\n",
    "\n",
    "# gan_graph in inference netG\n",
    "# design_tech_runner([gan_graph()])\n",
    "\n",
    "# # gan_graph in training netD(training)*2 + netG(inference) + (netG+netD)-> training \n",
    "# graph1, graph2 = gan_graph(True)\n",
    "# design_tech_runner([]) "
   ]
  },
  {
   "cell_type": "code",
   "execution_count": 7,
   "metadata": {
    "scrolled": false
   },
   "outputs": [],
   "source": [
    "# vgg11_graph = vggnet_graph()\n",
    "# dlrm_graph_data = dlrm_graph()\n",
    "# bert_graph_data = bert_graph()\n",
    "# gpt2_graph_data = gpt2_graph()\n",
    "# resnet_graph_data = resnet_graph()\n",
    "# Does memory read energy doubles up on increasing the array size?\n",
    "# backprop = False\n",
    "\n",
    "# graph = dlrm_graph_data\n",
    "# in_time, in_energy, area = run_single(graph, backprop, False, \"tpu.yaml\")\n",
    "# arch_time, arch_energy, arch_area = design_runner([graph], backprop, print_stats= False)\n",
    "# scale_energy = np.sum(arch_energy[1:5])*area/arch_area+np.sum(arch_energy[5:])\n",
    "# print(in_time[0]/arch_time[0]*area/arch_area, (in_energy[0])/scale_energy )\n",
    "# print(in_time[0]/arch_time[0], (in_energy[0])/arch_energy[0], area/arch_area )"
   ]
  },
  {
   "cell_type": "code",
   "execution_count": 8,
   "metadata": {
    "scrolled": false
   },
   "outputs": [],
   "source": [
    "# # dlrm_graph_data = dlrm_graph()\n",
    "# # resnet_graph_data = resnet_graph()\n",
    "# # Does memory read energy doubles up on increasing the array size?\n",
    "\n",
    "# backprop = False\n",
    "# name = [\"vgg_graph\", \"resnet_graph\",\"bert_graph\",\"gpt2_graph\", \"dlrm_graph\"]\n",
    "# graph_list = [vgg11_graph, resnet_graph_data, bert_graph_data, gpt2_graph_data, dlrm_graph_data]\n",
    "# # graph_list = []\n",
    "# # name = [\"dlrm_graph\"]\n",
    "\n",
    "# for i,graph in enumerate(graph_list):\n",
    "# # for graph in [bert_graph_data]:\n",
    "#     log_file_name = \"logs/\"+str(name[i])+str(backprop)\n",
    "#     arch_time, arch_energy, arch_area = design_runner([graph], backprop, print_stats= False, stats_file = log_file_name)\n"
   ]
  },
  {
   "cell_type": "code",
   "execution_count": 9,
   "metadata": {},
   "outputs": [
    {
     "name": "stdout",
     "output_type": "stream",
     "text": [
      "======Optimizing Design=========\n",
      "2.584993251608597 0.962590607708027 0.3332047063206925\n",
      "-0.688136100769043\n"
     ]
    }
   ],
   "source": [
    "backprop = False\n",
    "import time\n",
    "start = time.time()\n",
    "# name = [\"vgg_graph\", \"resnet_graph\",\"bert_graph\",\"gpt2_graph\", \"dlrm_graph\"]\n",
    "# graph_list = [vgg11_graph, resnet_graph_data, bert_graph_data, gpt2_graph_data, dlrm_graph_data]\n",
    "graph_list = [vgg11_graph]\n",
    "name = [\"vgg_graph\"]\n",
    "\n",
    "for i,graph in enumerate(graph_list):\n",
    "# for graph in [bert_graph_data]:\n",
    "    log_file_name = \"logs/\"+str(name[i])+str(backprop)\n",
    "    arch_time, arch_energy, arch_area = design_runner([graph], backprop, print_stats= False, stats_file = log_file_name)\n",
    "end = time.time()\n",
    "print(start-end)"
   ]
  },
  {
   "cell_type": "code",
   "execution_count": 13,
   "metadata": {},
   "outputs": [
    {
     "name": "stdout",
     "output_type": "stream",
     "text": [
      "======Optimizing Design=========\n",
      "4.337193224749786 1.0645150419338265 1.0\n"
     ]
    },
    {
     "data": {
      "text/plain": [
       "([837122.0970238096, 82402, 57259, 0],\n",
       " [86201649, 12612835, 8989025, 7196438, 829193, 14668103, 2446, 837122],\n",
       " 158827.531712)"
      ]
     },
     "execution_count": 13,
     "metadata": {},
     "output_type": "execute_result"
    }
   ],
   "source": [
    "backprop = False\n",
    "log_file_name = \"logs/alexnet\"+str(backprop)\n",
    "design_runner([alexnet_graph()], backprop, print_stats= False, stats_file = log_file_name)"
   ]
  },
  {
   "cell_type": "code",
   "execution_count": null,
   "metadata": {
    "scrolled": false
   },
   "outputs": [],
   "source": [
    "# for j in range(0,5):\n",
    "#     for i in range(5,15):\n",
    "#         scheduler = Scheduling()\n",
    "#         scheduler.config[\"memory\"][\"level1\"][\"frequency\"]=5\n",
    "#         scheduler.config[\"memory\"][\"level1\"][\"frequency\"]*=2**j\n",
    "#         memory = scheduler.config[\"memory\"][\"level1\"]\n",
    "#         scheduler.mem_read_bw[1] = memory[\"frequency\"]*memory[\"banks\"]*memory[\"read_ports\"]*memory[\"width\"]\n",
    "#         scheduler.config[\"memory\"][\"level0\"][\"size\"]=10**(i/2)\n",
    "#         scheduler.mem_size[0] = 10**(i/2)\n",
    "#         print(scheduler.mem_read_bw[1], scheduler.mem_size[0])\n",
    "#         print(\"Config i : \",i , \", j :\", j)\n",
    "#         design_runner([dlrm_graph], scheduler)\n"
   ]
  },
  {
   "cell_type": "markdown",
   "metadata": {},
   "source": [
    "# Technology Tables"
   ]
  },
  {
   "cell_type": "code",
   "execution_count": null,
   "metadata": {},
   "outputs": [],
   "source": [
    "import numpy as np\n",
    "import pandas as pd\n",
    "d = pd.read_csv('tables/sram.csv')\n",
    "a = np.array(d)\n",
    "\n",
    "# input = a[:,:3]\n",
    "# output = a[:,3:]\n"
   ]
  },
  {
   "cell_type": "code",
   "execution_count": null,
   "metadata": {},
   "outputs": [],
   "source": [
    "# # d = pd.read_csv('plugins/cacti/bus_width.out')\n",
    "# d = pd.read_csv('plugins/cacti/cache.cfg.out')\n",
    "\n",
    "# d = d.drop(d.columns[[12,13,14,15,16,17,18,19,20,21,22,23,24,25,26]], axis=1)\n",
    "\n",
    "# d = d.drop(' Associativity',1)\n",
    "# d = d.drop(' Dynamic search energy (nJ)',1)\n",
    "# d\n"
   ]
  },
  {
   "cell_type": "code",
   "execution_count": null,
   "metadata": {},
   "outputs": [],
   "source": [
    "a= np.array(d)\n",
    "np.savetxt('logic.csv',a, fmt='%.18e', delimiter=',')\n",
    "\n"
   ]
  },
  {
   "cell_type": "code",
   "execution_count": null,
   "metadata": {},
   "outputs": [],
   "source": [
    "# bar_graph(\"read_dummy.png\", read_bw_req, read_bw_actual, read_bw_limit, graph.nodes)\n"
   ]
  },
  {
   "cell_type": "code",
   "execution_count": null,
   "metadata": {},
   "outputs": [],
   "source": [
    "mem_table = np.array(pd.read_csv(\"tables/sram.csv\", header=None))\n",
    "a = mem_table[np.where(mem_table[:, 1] == 4)]\n",
    "a = a[np.where(a[:, 2] == 32)]"
   ]
  },
  {
   "cell_type": "code",
   "execution_count": null,
   "metadata": {},
   "outputs": [],
   "source": [
    "from dot import *"
   ]
  },
  {
   "cell_type": "code",
   "execution_count": null,
   "metadata": {},
   "outputs": [],
   "source": [
    "# dot_rep = make_graph_from_trace()"
   ]
  },
  {
   "cell_type": "code",
   "execution_count": null,
   "metadata": {},
   "outputs": [],
   "source": [
    "import torch\n",
    "import torch.nn as nn\n",
    "inputs = torch.randn(1,1,4,4)\n",
    "model = nn.Conv2d(1, 4, 3, 1, 1, bias=False)\n",
    "input_graph=trace(model, inputs)\n",
    "# design_tech_runner([input_graph], backprop=False,print_stats=True)"
   ]
  },
  {
   "cell_type": "markdown",
   "metadata": {},
   "source": [
    "## Analyze N3XT\n",
    "\n"
   ]
  },
  {
   "cell_type": "code",
   "execution_count": 21,
   "metadata": {},
   "outputs": [
    {
     "name": "stdout",
     "output_type": "stream",
     "text": [
      "==================================\n",
      "Time 203605 14930 14309\n",
      "Energy 1245967810 169623898 657069416 12513260 10720629 1610601 6357889 53323 1610601583\n",
      "Area 285631 50462 24499 210669\n",
      "memory accesses 120287432 120287432 61117096 512592\n",
      "rf access 357102944.0\n",
      "Design Params \n",
      " No. of PEs :  4096 \n",
      " Memory Level-1 Connectivity :  256 \n",
      " Memory Level-0 Size :  2000000 \n",
      " Memory Level-0 Read Energy :  0.104028\n",
      "Tech Params [1, 1, 40]\n"
     ]
    },
    {
     "data": {
      "text/plain": [
       "([203605.837890625, 14930, 14309, 0],\n",
       " [1245967810, 169623898, 12513260, 10720629, 1610601, 391149414, 3280588, 0],\n",
       " 285631.669568)"
      ]
     },
     "execution_count": 21,
     "metadata": {},
     "output_type": "execute_result"
    }
   ],
   "source": [
    "run_single(alexnet_data, backprop=False, print_stats=True, filename = 'illusion_nvm.yaml', mapping=\"nn_dataflow\")"
   ]
  },
  {
   "cell_type": "code",
   "execution_count": 22,
   "metadata": {},
   "outputs": [
    {
     "name": "stdout",
     "output_type": "stream",
     "text": [
      "==================================\n",
      "Time 3525114 34067 1633346\n",
      "Energy 9830682202 1807171654 7000412303 29351888 25146979 27885033 13824682 1466040 27885033780\n",
      "Area 285631 50462 24499 210669\n",
      "memory accesses 282153736 282153736 132893864 14092752\n",
      "rf access 3804571904.0\n",
      "Design Params \n",
      " No. of PEs :  4096 \n",
      " Memory Level-1 Connectivity :  256 \n",
      " Memory Level-0 Size :  2000000 \n",
      " Memory Level-0 Read Energy :  0.104028\n",
      "Tech Params [1, 1, 40]\n"
     ]
    },
    {
     "data": {
      "text/plain": [
       "([3525114.916015625, 34067, 1633346, 0],\n",
       " [9830682202,\n",
       "  1807171654,\n",
       "  29351888,\n",
       "  25146979,\n",
       "  27885033,\n",
       "  850520729,\n",
       "  90193612,\n",
       "  0],\n",
       " 285631.669568)"
      ]
     },
     "execution_count": 22,
     "metadata": {},
     "output_type": "execute_result"
    }
   ],
   "source": [
    "run_single(vgg11_graph, backprop=False, print_stats=True, filename = 'illusion_nvm.yaml', mapping=\"nn_dataflow\")"
   ]
  },
  {
   "cell_type": "code",
   "execution_count": 23,
   "metadata": {},
   "outputs": [
    {
     "name": "stdout",
     "output_type": "stream",
     "text": [
      "==================================\n",
      "Time 1165254 6384 160534\n",
      "Energy 4989825294 971181747 3762051399 5521181 4730224 9217617 2653334 1200954 9217617868\n",
      "Area 285631 50462 24499 210669\n",
      "memory accesses 53073992 53073992 25505960 11544528\n",
      "rf access 2044593152.0\n",
      "Design Params \n",
      " No. of PEs :  4096 \n",
      " Memory Level-1 Connectivity :  256 \n",
      " Memory Level-0 Size :  2000000 \n",
      " Memory Level-0 Read Energy :  0.104028\n",
      "Tech Params [1, 1, 40]\n"
     ]
    },
    {
     "data": {
      "text/plain": [
       "([1165254.541015625, 6384, 160534, 0],\n",
       " [4989825294, 971181747, 5521181, 4730224, 9217617, 163238144, 73884979, 0],\n",
       " 285631.669568)"
      ]
     },
     "execution_count": 23,
     "metadata": {},
     "output_type": "execute_result"
    }
   ],
   "source": [
    "run_single(resnet_graph_data, backprop=False, print_stats=True, filename = 'illusion_nvm.yaml', mapping=\"nn_dataflow\")"
   ]
  },
  {
   "cell_type": "code",
   "execution_count": 17,
   "metadata": {},
   "outputs": [
    {
     "name": "stdout",
     "output_type": "stream",
     "text": [
      "==================================\n",
      "Time 5280729 5245436 18909\n",
      "Energy 16267244760 15938355 61740154 13969432 11968191 41772625 6981200 6817 41772625874\n",
      "Area 285631 50462 24499 210669\n",
      "memory accesses 134285312 134285312 67108864 65536\n",
      "rf access 33554432.0\n",
      "Design Params \n",
      " No. of PEs :  4096 \n",
      " Memory Level-1 Connectivity :  4 \n",
      " Memory Level-0 Size :  2000000 \n",
      " Memory Level-0 Read Energy :  0.104028\n",
      "Tech Params [1, 1, 40]\n",
      "==================================\n",
      "Time 659612 655440 2124\n",
      "Energy 2031927591 1992294 7717519 1746365 1496183 5217788 872650 213 5217788168\n",
      "Area 285631 50462 24499 210669\n",
      "memory accesses 16787456 16787456 8388608 2048\n",
      "rf access 4194304.0\n",
      "Design Params \n",
      " No. of PEs :  4096 \n",
      " Memory Level-1 Connectivity :  4 \n",
      " Memory Level-0 Size :  2000000 \n",
      " Memory Level-0 Read Energy :  0.104028\n",
      "Tech Params [1, 1, 40]\n"
     ]
    },
    {
     "data": {
      "text/plain": [
       "([659612.0, 655440, 2124, 0],\n",
       " [2031927591, 1992294, 1746365, 1496183, 5217788, 2013265920, 491520, 0],\n",
       " 285631.669568)"
      ]
     },
     "execution_count": 17,
     "metadata": {},
     "output_type": "execute_result"
    }
   ],
   "source": [
    "run_single(langmod_graph1, backprop=False, print_stats=True, filename = 'illusion.yaml', mapping=\"nn_dataflow\")\n",
    "run_single(langmod_graph2, backprop=False, print_stats=True, filename = 'illusion.yaml', mapping=\"nn_dataflow\")"
   ]
  },
  {
   "cell_type": "markdown",
   "metadata": {},
   "source": [
    "## TSMC"
   ]
  },
  {
   "cell_type": "code",
   "execution_count": null,
   "metadata": {},
   "outputs": [],
   "source": [
    "import torch\n",
    "import torch.nn as nn\n",
    "inputs = torch.randn(1,1,4,4)\n",
    "model = nn.Conv2d(1, 4, 3, 1, 0, bias=False)\n",
    "input_graph=trace(model, inputs)\n",
    "# design_tech_runner([input_graph], backprop=False,print_stats=True)"
   ]
  },
  {
   "cell_type": "code",
   "execution_count": null,
   "metadata": {},
   "outputs": [],
   "source": []
  },
  {
   "cell_type": "code",
   "execution_count": null,
   "metadata": {
    "scrolled": true
   },
   "outputs": [],
   "source": [
    "print(input_graph)"
   ]
  },
  {
   "cell_type": "code",
   "execution_count": null,
   "metadata": {
    "scrolled": false
   },
   "outputs": [],
   "source": [
    "run_single(input_graph, False, True, \"tsmc.yaml\")"
   ]
  },
  {
   "cell_type": "code",
   "execution_count": null,
   "metadata": {
    "scrolled": false
   },
   "outputs": [],
   "source": [
    "run_single(input_graph, False, True, \"tsmc.yaml\")"
   ]
  },
  {
   "cell_type": "markdown",
   "metadata": {},
   "source": [
    "## Non-AI Synthesis"
   ]
  },
  {
   "cell_type": "code",
   "execution_count": null,
   "metadata": {},
   "outputs": [],
   "source": [
    "run_graph_processing_design_generation(input_graph, data)"
   ]
  },
  {
   "cell_type": "code",
   "execution_count": null,
   "metadata": {},
   "outputs": [],
   "source": []
  }
 ],
 "metadata": {
  "kernelspec": {
   "display_name": "Python [conda env:stanford_code]",
   "language": "python",
   "name": "conda-env-stanford_code-py"
  },
  "language_info": {
   "codemirror_mode": {
    "name": "ipython",
    "version": 3
   },
   "file_extension": ".py",
   "mimetype": "text/x-python",
   "name": "python",
   "nbconvert_exporter": "python",
   "pygments_lexer": "ipython3",
   "version": "3.8.3"
  }
 },
 "nbformat": 4,
 "nbformat_minor": 2
}
