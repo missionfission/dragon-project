{
  "nbformat": 4,
  "nbformat_minor": 0,
  "metadata": {
    "kernelspec": {
      "display_name": "Python 3.6.4 64-bit ('dl': conda)",
      "language": "python",
      "name": "python36464bitdlconda74ce50dd77ab450dad146f0ee6a8041f"
    },
    "language_info": {
      "codemirror_mode": {
        "name": "ipython",
        "version": 3
      },
      "file_extension": ".py",
      "mimetype": "text/x-python",
      "name": "python",
      "nbconvert_exporter": "python",
      "pygments_lexer": "ipython3",
      "version": "3.6.4"
    },
    "colab": {
      "name": "DPRColab.ipynb",
      "provenance": [],
      "collapsed_sections": [],
      "toc_visible": true,
      "include_colab_link": true
    }
  },
  "cells": [
    {
      "cell_type": "markdown",
      "metadata": {
        "id": "view-in-github",
        "colab_type": "text"
      },
      "source": [
        "<a href=\"https://colab.research.google.com/github/missionfission/dragon-project/blob/master/Colab.ipynb\" target=\"_parent\"><img src=\"https://colab.research.google.com/assets/colab-badge.svg\" alt=\"Open In Colab\"/></a>"
      ]
    },
    {
      "cell_type": "code",
      "metadata": {
        "id": "xI5Iv_dihruz"
      },
      "source": [
        "# !pip install transformers==4.0"
      ],
      "execution_count": 1,
      "outputs": []
    },
    {
      "cell_type": "code",
      "metadata": {
        "id": "E3hQjNKkjReO"
      },
      "source": [
        "\r\n",
        "import os\r\n",
        "from getpass import getpass\r\n",
        "user = getpass('GitHub user')\r\n",
        "password = getpass('GitHub password')\r\n",
        "os.environ['GITHUB_AUTH'] = user + ':' + password\r\n",
        "!git clone https://$GITHUB_AUTH@github.com/missionfission/dragon-project"
      ],
      "execution_count": null,
      "outputs": []
    },
    {
      "cell_type": "code",
      "metadata": {
        "id": "5fpZ8Ji9je9o",
        "colab": {
          "base_uri": "https://localhost:8080/"
        },
        "outputId": "01c9b31e-7038-46f7-c6b2-77ab5e07c7a2"
      },
      "source": [
        "%cd dragon-project/src\r\n",
        "!ls"
      ],
      "execution_count": null,
      "outputs": [
        {
          "output_type": "stream",
          "text": [
            "/content/dragon-project/src\n",
            "Colab.ipynb\t  dummy\t\t generator.py  models\t     scheduling.py\n",
            "common_models.py  Figures.ipynb  __init__.py   nonai_models  tables\n",
            "configs\t\t  figures.py\t ir\t       outputs\t     utils\n",
            "dot.py\t\t  functions.py\t main.py       Run.ipynb\n"
          ],
          "name": "stdout"
        }
      ]
    },
    {
      "cell_type": "code",
      "metadata": {
        "id": "9lRUom-jhrvQ"
      },
      "source": [
        "from common_models import dpr_graph\n",
        "contextencoder_graph, questionencoder_graph, reader_graph = dpr_graph()\n"
      ],
      "execution_count": null,
      "outputs": []
    },
    {
      "cell_type": "code",
      "metadata": {
        "id": "t3USJeLTkRvP"
      },
      "source": [
        "def get_params(graph):\r\n",
        "  sum = 0\r\n",
        "  compute =0 \r\n",
        "  for node in graph.nodes:\r\n",
        "    sum+=node.weights\r\n",
        "    compute+=node.compute_expense\r\n",
        "  return sum, compute"
      ],
      "execution_count": null,
      "outputs": []
    },
    {
      "cell_type": "code",
      "metadata": {
        "id": "uUnuwIJUkm1l"
      },
      "source": [
        "print(get_params(contextencoder_graph),get_params(questionencoder_graph), get_params(reader_graph))"
      ],
      "execution_count": null,
      "outputs": []
    },
    {
      "cell_type": "code",
      "metadata": {
        "id": "jHlkx18JhrvR"
      },
      "source": [
        "print(contextencoder_graph, questionencoder_graph, reader_graph)"
      ],
      "execution_count": null,
      "outputs": []
    }
  ]
}