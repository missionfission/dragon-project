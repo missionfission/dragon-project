{
 "cells": [
  {
   "cell_type": "code",
   "execution_count": null,
   "metadata": {
    "id": "cX3CQ3BPaT6_"
   },
   "outputs": [],
   "source": [
    "\n",
    "import os\n",
    "from getpass import getpass\n",
    "user = getpass('GitHub user')\n",
    "password = getpass('GitHub password')\n",
    "os.environ['GITHUB_AUTH'] = user + ':' + password\n",
    "!git clone https://$GITHUB_AUTH@github.com/missionfission/dragon-project "
   ]
  },
  {
   "cell_type": "code",
   "execution_count": null,
   "metadata": {
    "id": "fDsXo8AEaxSk",
    "outputId": "7b22dc4b-cbf5-4fb0-cd9c-d029911b203d"
   },
   "outputs": [
    {
     "name": "stdout",
     "output_type": "stream",
     "text": [
      "mkdir: cannot create directory ‘iters’: File exists\n",
      "mkdir: cannot create directory ‘logs’: File exists\n"
     ]
    }
   ],
   "source": [
    "!pip install yamlordereddictloader\n",
    "!pip install transformers==4.0\n",
    "%cd dragon-project/src\n",
    "%mkdir iters\n",
    "%mkdir logs\n",
    "!ls\n",
    "!git clone https://github.com/facebookresearch/dlrm\n"
   ]
  },
  {
   "cell_type": "code",
   "execution_count": null,
   "metadata": {
    "colab": {
     "base_uri": "https://localhost:8080/"
    },
    "id": "8ZgPR-xbaPnh",
    "outputId": "046a243c-364f-470a-d384-7c7d3209d32e",
    "tags": []
   },
   "outputs": [
    {
     "name": "stdout",
     "output_type": "stream",
     "text": [
      "The autoreload extension is already loaded. To reload it, use:\n",
      "  %reload_ext autoreload\n"
     ]
    }
   ],
   "source": [
    "%load_ext autoreload\n",
    "\n",
    "%autoreload 2\n",
    "\n",
    "import glob\n",
    "import os\n",
    "import sys\n",
    "from collections import deque\n",
    "from copy import deepcopy\n",
    "\n",
    "import numpy as np\n",
    "import torch\n",
    "import torch.nn as nn\n",
    "import yaml\n",
    "import yamlordereddictloader\n",
    "\n",
    "from torchvision import models\n",
    "from yaml import dump\n",
    "from mapper.mapper import Mapper\n",
    "from generator import Generator, get_mem_props\n",
    "from generator import *\n",
    "from utils.visualizer import *\n",
    "from ir.trace import trace\n",
    "from ddfg_main import synthesis_hardware\n",
    "from main import design_tech_runner, design_runner, perf"
   ]
  },
  {
   "cell_type": "code",
   "execution_count": null,
   "metadata": {
    "id": "bpES1ouPaPny",
    "tags": []
   },
   "outputs": [],
   "source": [
    "from common_models import alexnet_graph, vggnet_graph, resnet_graph, bert_graph, gpt2_graph, dlrm_graph, alexnet_graph, langmodel_graph\n",
    "# design_runner([vggnet_graph()])\n",
    "# # for node in dlrm_graph.nodes:\n",
    "# #     print(node.in_edge_mem + node.mem_fetch + node.out_edge_mem, node.compute_expense )\n",
    "\n",
    "# design_tech_runner([dlrm_graph])\n",
    "vgg11_graph = vggnet_graph()\n",
    "resnet_graph_data = resnet_graph()\n",
    "alexnet_data = alexnet_graph()\n",
    "langmod_graph1, langmod_graph2 = langmodel_graph()\n",
    "# dlrm_graph_data = dlrm_graph()\n",
    "bert_graph_data = bert_graph()\n",
    "gpt2_graph_data = gpt2_graph()\n",
    "# \n",
    "# from nonai_models.graph_processing import graph_processing"
   ]
  },
  {
   "cell_type": "code",
   "execution_count": null,
   "metadata": {
    "id": "pq_-4LiFsvD5",
    "outputId": "c8dbb56f-66f7-401b-833f-711d8caead11"
   },
   "outputs": [
    {
     "data": {
      "text/plain": [
       "torchvision.models.resnet.ResNet (\n",
       "\t%input.1: float[1, 3, 224, 224],\n",
       "\t%1: float[64, 3, 7, 7],\n",
       "\t%2: float[64],\n",
       "\t%3: float[64],\n",
       "\t%4: float[64],\n",
       "\t%5: float[64],\n",
       "\t%7: float[64, 64, 1, 1],\n",
       "\t%8: float[64],\n",
       "\t%9: float[64],\n",
       "\t%10: float[64],\n",
       "\t%11: float[64],\n",
       "\t%13: float[64, 64, 3, 3],\n",
       "\t%14: float[64],\n",
       "\t%15: float[64],\n",
       "\t%16: float[64],\n",
       "\t%17: float[64],\n",
       "\t%19: float[256, 64, 1, 1],\n",
       "\t%20: float[256],\n",
       "\t%21: float[256],\n",
       "\t%22: float[256],\n",
       "\t%23: float[256],\n",
       "\t%25: float[256, 64, 1, 1],\n",
       "\t%26: float[256],\n",
       "\t%27: float[256],\n",
       "\t%28: float[256],\n",
       "\t%29: float[256],\n",
       "\t%31: float[64, 256, 1, 1],\n",
       "\t%32: float[64],\n",
       "\t%33: float[64],\n",
       "\t%34: float[64],\n",
       "\t%35: float[64],\n",
       "\t%37: float[64, 64, 3, 3],\n",
       "\t%38: float[64],\n",
       "\t%39: float[64],\n",
       "\t%40: float[64],\n",
       "\t%41: float[64],\n",
       "\t%43: float[256, 64, 1, 1],\n",
       "\t%44: float[256],\n",
       "\t%45: float[256],\n",
       "\t%46: float[256],\n",
       "\t%47: float[256],\n",
       "\t%49: float[64, 256, 1, 1],\n",
       "\t%50: float[64],\n",
       "\t%51: float[64],\n",
       "\t%52: float[64],\n",
       "\t%53: float[64],\n",
       "\t%55: float[64, 64, 3, 3],\n",
       "\t%56: float[64],\n",
       "\t%57: float[64],\n",
       "\t%58: float[64],\n",
       "\t%59: float[64],\n",
       "\t%61: float[256, 64, 1, 1],\n",
       "\t%62: float[256],\n",
       "\t%63: float[256],\n",
       "\t%64: float[256],\n",
       "\t%65: float[256],\n",
       "\t%67: float[128, 256, 1, 1],\n",
       "\t%68: float[128],\n",
       "\t%69: float[128],\n",
       "\t%70: float[128],\n",
       "\t%71: float[128],\n",
       "\t%73: float[128, 128, 3, 3],\n",
       "\t%74: float[128],\n",
       "\t%75: float[128],\n",
       "\t%76: float[128],\n",
       "\t%77: float[128],\n",
       "\t%79: float[512, 128, 1, 1],\n",
       "\t%80: float[512],\n",
       "\t%81: float[512],\n",
       "\t%82: float[512],\n",
       "\t%83: float[512],\n",
       "\t%85: float[512, 256, 1, 1],\n",
       "\t%86: float[512],\n",
       "\t%87: float[512],\n",
       "\t%88: float[512],\n",
       "\t%89: float[512],\n",
       "\t%91: float[128, 512, 1, 1],\n",
       "\t%92: float[128],\n",
       "\t%93: float[128],\n",
       "\t%94: float[128],\n",
       "\t%95: float[128],\n",
       "\t%97: float[128, 128, 3, 3],\n",
       "\t%98: float[128],\n",
       "\t%99: float[128],\n",
       "\t%100: float[128],\n",
       "\t%101: float[128],\n",
       "\t%103: float[512, 128, 1, 1],\n",
       "\t%104: float[512],\n",
       "\t%105: float[512],\n",
       "\t%106: float[512],\n",
       "\t%107: float[512],\n",
       "\t%109: float[128, 512, 1, 1],\n",
       "\t%110: float[128],\n",
       "\t%111: float[128],\n",
       "\t%112: float[128],\n",
       "\t%113: float[128],\n",
       "\t%115: float[128, 128, 3, 3],\n",
       "\t%116: float[128],\n",
       "\t%117: float[128],\n",
       "\t%118: float[128],\n",
       "\t%119: float[128],\n",
       "\t%121: float[512, 128, 1, 1],\n",
       "\t%122: float[512],\n",
       "\t%123: float[512],\n",
       "\t%124: float[512],\n",
       "\t%125: float[512],\n",
       "\t%127: float[128, 512, 1, 1],\n",
       "\t%128: float[128],\n",
       "\t%129: float[128],\n",
       "\t%130: float[128],\n",
       "\t%131: float[128],\n",
       "\t%133: float[128, 128, 3, 3],\n",
       "\t%134: float[128],\n",
       "\t%135: float[128],\n",
       "\t%136: float[128],\n",
       "\t%137: float[128],\n",
       "\t%139: float[512, 128, 1, 1],\n",
       "\t%140: float[512],\n",
       "\t%141: float[512],\n",
       "\t%142: float[512],\n",
       "\t%143: float[512],\n",
       "\t%145: float[256, 512, 1, 1],\n",
       "\t%146: float[256],\n",
       "\t%147: float[256],\n",
       "\t%148: float[256],\n",
       "\t%149: float[256],\n",
       "\t%151: float[256, 256, 3, 3],\n",
       "\t%152: float[256],\n",
       "\t%153: float[256],\n",
       "\t%154: float[256],\n",
       "\t%155: float[256],\n",
       "\t%157: float[1024, 256, 1, 1],\n",
       "\t%158: float[1024],\n",
       "\t%159: float[1024],\n",
       "\t%160: float[1024],\n",
       "\t%161: float[1024],\n",
       "\t%163: float[1024, 512, 1, 1],\n",
       "\t%164: float[1024],\n",
       "\t%165: float[1024],\n",
       "\t%166: float[1024],\n",
       "\t%167: float[1024],\n",
       "\t%169: float[256, 1024, 1, 1],\n",
       "\t%170: float[256],\n",
       "\t%171: float[256],\n",
       "\t%172: float[256],\n",
       "\t%173: float[256],\n",
       "\t%175: float[256, 256, 3, 3],\n",
       "\t%176: float[256],\n",
       "\t%177: float[256],\n",
       "\t%178: float[256],\n",
       "\t%179: float[256],\n",
       "\t%181: float[1024, 256, 1, 1],\n",
       "\t%182: float[1024],\n",
       "\t%183: float[1024],\n",
       "\t%184: float[1024],\n",
       "\t%185: float[1024],\n",
       "\t%187: float[256, 1024, 1, 1],\n",
       "\t%188: float[256],\n",
       "\t%189: float[256],\n",
       "\t%190: float[256],\n",
       "\t%191: float[256],\n",
       "\t%193: float[256, 256, 3, 3],\n",
       "\t%194: float[256],\n",
       "\t%195: float[256],\n",
       "\t%196: float[256],\n",
       "\t%197: float[256],\n",
       "\t%199: float[1024, 256, 1, 1],\n",
       "\t%200: float[1024],\n",
       "\t%201: float[1024],\n",
       "\t%202: float[1024],\n",
       "\t%203: float[1024],\n",
       "\t%205: float[256, 1024, 1, 1],\n",
       "\t%206: float[256],\n",
       "\t%207: float[256],\n",
       "\t%208: float[256],\n",
       "\t%209: float[256],\n",
       "\t%211: float[256, 256, 3, 3],\n",
       "\t%212: float[256],\n",
       "\t%213: float[256],\n",
       "\t%214: float[256],\n",
       "\t%215: float[256],\n",
       "\t%217: float[1024, 256, 1, 1],\n",
       "\t%218: float[1024],\n",
       "\t%219: float[1024],\n",
       "\t%220: float[1024],\n",
       "\t%221: float[1024],\n",
       "\t%223: float[256, 1024, 1, 1],\n",
       "\t%224: float[256],\n",
       "\t%225: float[256],\n",
       "\t%226: float[256],\n",
       "\t%227: float[256],\n",
       "\t%229: float[256, 256, 3, 3],\n",
       "\t%230: float[256],\n",
       "\t%231: float[256],\n",
       "\t%232: float[256],\n",
       "\t%233: float[256],\n",
       "\t%235: float[1024, 256, 1, 1],\n",
       "\t%236: float[1024],\n",
       "\t%237: float[1024],\n",
       "\t%238: float[1024],\n",
       "\t%239: float[1024],\n",
       "\t%241: float[256, 1024, 1, 1],\n",
       "\t%242: float[256],\n",
       "\t%243: float[256],\n",
       "\t%244: float[256],\n",
       "\t%245: float[256],\n",
       "\t%247: float[256, 256, 3, 3],\n",
       "\t%248: float[256],\n",
       "\t%249: float[256],\n",
       "\t%250: float[256],\n",
       "\t%251: float[256],\n",
       "\t%253: float[1024, 256, 1, 1],\n",
       "\t%254: float[1024],\n",
       "\t%255: float[1024],\n",
       "\t%256: float[1024],\n",
       "\t%257: float[1024],\n",
       "\t%259: float[512, 1024, 1, 1],\n",
       "\t%260: float[512],\n",
       "\t%261: float[512],\n",
       "\t%262: float[512],\n",
       "\t%263: float[512],\n",
       "\t%265: float[512, 512, 3, 3],\n",
       "\t%266: float[512],\n",
       "\t%267: float[512],\n",
       "\t%268: float[512],\n",
       "\t%269: float[512],\n",
       "\t%271: float[2048, 512, 1, 1],\n",
       "\t%272: float[2048],\n",
       "\t%273: float[2048],\n",
       "\t%274: float[2048],\n",
       "\t%275: float[2048],\n",
       "\t%277: float[2048, 1024, 1, 1],\n",
       "\t%278: float[2048],\n",
       "\t%279: float[2048],\n",
       "\t%280: float[2048],\n",
       "\t%281: float[2048],\n",
       "\t%283: float[512, 2048, 1, 1],\n",
       "\t%284: float[512],\n",
       "\t%285: float[512],\n",
       "\t%286: float[512],\n",
       "\t%287: float[512],\n",
       "\t%289: float[512, 512, 3, 3],\n",
       "\t%290: float[512],\n",
       "\t%291: float[512],\n",
       "\t%292: float[512],\n",
       "\t%293: float[512],\n",
       "\t%295: float[2048, 512, 1, 1],\n",
       "\t%296: float[2048],\n",
       "\t%297: float[2048],\n",
       "\t%298: float[2048],\n",
       "\t%299: float[2048],\n",
       "\t%301: float[512, 2048, 1, 1],\n",
       "\t%302: float[512],\n",
       "\t%303: float[512],\n",
       "\t%304: float[512],\n",
       "\t%305: float[512],\n",
       "\t%307: float[512, 512, 3, 3],\n",
       "\t%308: float[512],\n",
       "\t%309: float[512],\n",
       "\t%310: float[512],\n",
       "\t%311: float[512],\n",
       "\t%313: float[2048, 512, 1, 1],\n",
       "\t%314: float[2048],\n",
       "\t%315: float[2048],\n",
       "\t%316: float[2048],\n",
       "\t%317: float[2048],\n",
       "\t%319: float[1000, 2048],\n",
       "\t%320: float[1000]\n",
       "):\n",
       "\taten::_convolution\n",
       "\taten::_convolution\n",
       "\taten::_convolution\n",
       "\taten::_convolution\n",
       "\taten::_convolution\n",
       "\taten::_convolution\n",
       "\taten::_convolution\n",
       "\taten::_convolution\n",
       "\taten::_convolution\n",
       "\taten::_convolution\n",
       "\taten::_convolution\n",
       "\taten::_convolution\n",
       "\taten::_convolution\n",
       "\taten::_convolution\n",
       "\taten::_convolution\n",
       "\taten::_convolution\n",
       "\taten::_convolution\n",
       "\taten::_convolution\n",
       "\taten::_convolution\n",
       "\taten::_convolution\n",
       "\taten::_convolution\n",
       "\taten::_convolution\n",
       "\taten::_convolution\n",
       "\taten::_convolution\n",
       "\taten::_convolution\n",
       "\taten::_convolution\n",
       "\taten::_convolution\n",
       "\taten::_convolution\n",
       "\taten::_convolution\n",
       "\taten::_convolution\n",
       "\taten::_convolution\n",
       "\taten::_convolution\n",
       "\taten::_convolution\n",
       "\taten::_convolution\n",
       "\taten::_convolution\n",
       "\taten::_convolution\n",
       "\taten::_convolution\n",
       "\taten::_convolution\n",
       "\taten::_convolution\n",
       "\taten::_convolution\n",
       "\taten::_convolution\n",
       "\taten::_convolution\n",
       "\taten::_convolution\n",
       "\taten::_convolution\n",
       "\taten::_convolution\n",
       "\taten::_convolution\n",
       "\taten::_convolution\n",
       "\taten::_convolution\n",
       "\taten::_convolution\n",
       "\taten::_convolution\n",
       "\taten::_convolution\n",
       "\taten::_convolution\n",
       "\taten::_convolution\n",
       "\taten::adaptive_avg_pool2d\n",
       "\taten::addmm\n",
       "\treturn %2352: float[1, 1000]"
      ]
     },
     "execution_count": 4,
     "metadata": {},
     "output_type": "execute_result"
    }
   ],
   "source": [
    "resnet_graph_data"
   ]
  },
  {
   "cell_type": "markdown",
   "metadata": {
    "id": "2kqyOQAWaPny"
   },
   "source": [
    "# Example 1 : Resnet-50  (Feedforward Neural Networks): Performance Estimation "
   ]
  },
  {
   "cell_type": "markdown",
   "metadata": {
    "id": "8tP0lUpXsvD7"
   },
   "source": [
    "\n",
    "<img src=\"attachment:image.png\" width=\"400\">\n"
   ]
  },
  {
   "cell_type": "markdown",
   "metadata": {
    "id": "8_6n6MHTsvD9"
   },
   "source": [
    "![image.png](attachment:image.png)"
   ]
  },
  {
   "cell_type": "code",
   "execution_count": null,
   "metadata": {
    "id": "Ujxu3TRGaPnz",
    "outputId": "e6c66eb3-0e61-4b01-8fa9-1fe0daacf896"
   },
   "outputs": [
    {
     "name": "stdout",
     "output_type": "stream",
     "text": [
      "==================================\n",
      "Time 1165254 6384 160534\n",
      "Energy 4989825294 971181747 3762051399 5521181 4730224 9217617 2653334 1200954 9217617868\n",
      "Area 285631 50462 24499 210669\n",
      "memory accesses 53073992 53073992 25505960 11544528\n",
      "rf access 2044593152.0\n",
      "Design Params \n",
      " No. of PEs :  4096 \n",
      " Memory Level-1 Connectivity :  256 \n",
      " Memory Level-0 Size :  2000000 \n",
      " Memory Level-0 Read Energy :  0.104028\n",
      "Tech Params [1, 1, 40]\n"
     ]
    },
    {
     "data": {
      "text/plain": [
       "([1165254.541015625, 6384, 160534, 0],\n",
       " [4989825294, 971181747, 5521181, 4730224, 9217617, 163238144, 73884979, 0],\n",
       " 285631.669568)"
      ]
     },
     "execution_count": 7,
     "metadata": {},
     "output_type": "execute_result"
    }
   ],
   "source": [
    "perf(resnet_graph_data, backprop=False, print_stats=True, filename = 'illusion_nvm.yaml')"
   ]
  },
  {
   "cell_type": "code",
   "execution_count": 11,
   "metadata": {},
   "outputs": [
    {
     "name": "stdout",
     "output_type": "stream",
     "text": [
      "Requirement already satisfied: astor in /Users/khushalsethi/opt/miniconda3/envs/stanford/lib/python3.9/site-packages (0.8.1)\n",
      "Requirement already satisfied: graphviz in /Users/khushalsethi/opt/miniconda3/envs/stanford/lib/python3.9/site-packages (0.20.3)\n",
      "Collecting yamlordereddictloader\n",
      "  Downloading yamlordereddictloader-0.4.2-py3-none-any.whl (4.2 kB)\n",
      "Requirement already satisfied: pyyaml in /Users/khushalsethi/opt/miniconda3/envs/stanford/lib/python3.9/site-packages (from yamlordereddictloader) (5.4)\n",
      "Installing collected packages: yamlordereddictloader\n",
      "Successfully installed yamlordereddictloader-0.4.2\n"
     ]
    }
   ],
   "source": [
    "!pip install astor\n",
    "!pip install graphviz\n",
    "!pip install yamlordereddictloader"
   ]
  },
  {
   "cell_type": "markdown",
   "metadata": {
    "id": "4xCQAF2UaPnz"
   },
   "source": [
    "## Example 2 : Non-AI Workloads : Architecture Synthesis and Performance Estimation "
   ]
  },
  {
   "cell_type": "code",
   "execution_count": 9,
   "metadata": {
    "id": "bFbTyfhDaPnz",
    "outputId": "bf9d63ee-d5d2-4e21-82e0-00a8559cb163"
   },
   "outputs": [
    {
     "name": "stdout",
     "output_type": "stream",
     "text": [
      "Subscript(value=Name(id='matrix', ctx=Load()), slice=Call(func=Name(id='int', ctx=Load()), args=[BinOp(left=Name(id='i', ctx=Load()), op=Div(), right=Constant(value=4))], keywords=[]), ctx=Load())\n",
      "Subscript(value=Attribute(value=Name(id='self', ctx=Load()), attr='round_keys', ctx=Load()), slice=Name(id='i', ctx=Load()), ctx=Load())\n",
      "Subscript(value=Attribute(value=Name(id='self', ctx=Load()), attr='round_keys', ctx=Load()), slice=Name(id='i', ctx=Load()), ctx=Load())\n",
      "Subscript(value=Attribute(value=Name(id='self', ctx=Load()), attr='round_keys', ctx=Load()), slice=Name(id='i', ctx=Load()), ctx=Load())\n",
      "CFG for aes.py\n"
     ]
    }
   ],
   "source": [
    "import ast\n",
    "\n",
    "from ir.cfg.staticfg import CFGBuilder\n",
    "cfg = CFGBuilder().build_from_file(\n",
    "    \"aes.py\",\n",
    "    \"nonai_models/aes.py\",\n",
    ")\n",
    "# cfg.build_visual(\"aes\", \"pdf\", show=True)\n",
    "print(cfg)"
   ]
  },
  {
   "cell_type": "markdown",
   "metadata": {
    "id": "D53ZopX7svEB"
   },
   "source": [
    "# AES : Advanced Encryption Standard"
   ]
  },
  {
   "cell_type": "markdown",
   "metadata": {
    "id": "BTCkCQiLsvEC"
   },
   "source": [
    "<img src=\"attachment:image.png\" width=\"400\">\n"
   ]
  },
  {
   "cell_type": "markdown",
   "metadata": {
    "id": "3mWjOo2RsvEC"
   },
   "source": [
    "# Python Function"
   ]
  },
  {
   "cell_type": "markdown",
   "metadata": {
    "id": "AQs3gGHdsvED"
   },
   "source": [
    "<img src=\"attachment:image.png\" width=\"800\">\n"
   ]
  },
  {
   "cell_type": "markdown",
   "metadata": {
    "id": "MczER9bBsvED"
   },
   "source": [
    "# AST (Abstract Syntax Tree) Generation"
   ]
  },
  {
   "cell_type": "markdown",
   "metadata": {
    "id": "6OeuY1OusvED"
   },
   "source": [
    "![image.png](attachment:image.png)"
   ]
  },
  {
   "cell_type": "markdown",
   "metadata": {
    "id": "l4BYfSShsvEE"
   },
   "source": [
    "## Encrypt Function : AST"
   ]
  },
  {
   "cell_type": "markdown",
   "metadata": {
    "id": "k48cBKMmsvEE"
   },
   "source": [
    "![image.png](attachment:image.png)"
   ]
  },
  {
   "cell_type": "markdown",
   "metadata": {
    "id": "oQY4-TRNsvEE"
   },
   "source": [
    "# Hardware Synthesis"
   ]
  },
  {
   "cell_type": "code",
   "execution_count": null,
   "metadata": {
    "id": "t26ID5J4svEE",
    "outputId": "383e0553-f8f0-4e96-8d6c-d8d793be7d92"
   },
   "outputs": [
    {
     "ename": "NameError",
     "evalue": "name 'synthesis_hardware' is not defined",
     "output_type": "error",
     "traceback": [
      "\u001b[0;31m---------------------------------------------------------------------------\u001b[0m",
      "\u001b[0;31mNameError\u001b[0m                                 Traceback (most recent call last)",
      "\u001b[0;32m<ipython-input-4-6b06309b693a>\u001b[0m in \u001b[0;36m<module>\u001b[0;34m\u001b[0m\n\u001b[0;32m----> 1\u001b[0;31m \u001b[0msynthesis_hardware\u001b[0m\u001b[0;34m(\u001b[0m\u001b[0;34m\"aes\"\u001b[0m\u001b[0;34m)\u001b[0m\u001b[0;34m\u001b[0m\u001b[0;34m\u001b[0m\u001b[0m\n\u001b[0m",
      "\u001b[0;31mNameError\u001b[0m: name 'synthesis_hardware' is not defined"
     ]
    }
   ],
   "source": [
    "synthesis_hardware(\"aes\")"
   ]
  },
  {
   "cell_type": "code",
   "execution_count": null,
   "metadata": {},
   "outputs": [],
   "source": []
  },
  {
   "cell_type": "code",
   "execution_count": 15,
   "metadata": {
    "id": "D5E-R3bZsvEF",
    "outputId": "e00ba4cc-4f88-4d46-9ed0-b9df315005b6"
   },
   "outputs": [
    {
     "ename": "TypeError",
     "evalue": "parse_graph() missing 1 required positional argument: 'dse_input'",
     "output_type": "error",
     "traceback": [
      "\u001b[0;31m---------------------------------------------------------------------------\u001b[0m",
      "\u001b[0;31mTypeError\u001b[0m                                 Traceback (most recent call last)",
      "\u001b[0;32m/var/folders/l4/51s9_smn13b4fxfp3mcj80z40000gn/T/ipykernel_80321/289846338.py\u001b[0m in \u001b[0;36m<module>\u001b[0;34m\u001b[0m\n\u001b[1;32m      1\u001b[0m \u001b[0;32mfrom\u001b[0m \u001b[0msynthesis\u001b[0m\u001b[0;34m.\u001b[0m\u001b[0mhls\u001b[0m \u001b[0;32mimport\u001b[0m \u001b[0mparse_graph\u001b[0m\u001b[0;34m,\u001b[0m \u001b[0mget_stats\u001b[0m\u001b[0;34m\u001b[0m\u001b[0;34m\u001b[0m\u001b[0m\n\u001b[0;32m----> 2\u001b[0;31m \u001b[0mparse_graph\u001b[0m\u001b[0;34m(\u001b[0m\u001b[0mcfg\u001b[0m\u001b[0;34m)\u001b[0m\u001b[0;34m\u001b[0m\u001b[0;34m\u001b[0m\u001b[0m\n\u001b[0m\u001b[1;32m      3\u001b[0m \u001b[0mget_stats\u001b[0m\u001b[0;34m(\u001b[0m\u001b[0mcfg\u001b[0m\u001b[0;34m)\u001b[0m\u001b[0;34m\u001b[0m\u001b[0;34m\u001b[0m\u001b[0m\n",
      "\u001b[0;31mTypeError\u001b[0m: parse_graph() missing 1 required positional argument: 'dse_input'"
     ]
    }
   ],
   "source": [
    "from synthesis.hls import parse_graph, get_stats\n",
    "parse_graph(cfg,0)\n",
    "get_stats(cfg)"
   ]
  },
  {
   "cell_type": "markdown",
   "metadata": {
    "id": "oSDBKtxQsvEF"
   },
   "source": [
    "# Graph Analytics : BFS"
   ]
  },
  {
   "cell_type": "markdown",
   "metadata": {
    "id": "KZI7h2SssvEF"
   },
   "source": [
    "![image.png](attachment:image.png)"
   ]
  },
  {
   "cell_type": "markdown",
   "metadata": {
    "id": "bDoB2KUHsvEG"
   },
   "source": [
    "<img src=\"attachment:image.png\" width=\"800\">\n"
   ]
  },
  {
   "cell_type": "code",
   "execution_count": null,
   "metadata": {
    "id": "YwA3VaDusvEG",
    "outputId": "be9750e2-bf4f-405d-ceed-ef53ea6e9eb4"
   },
   "outputs": [
    {
     "name": "stdout",
     "output_type": "stream",
     "text": [
      "-------------------------------\n",
      "aes,aes_aes/inputs/dynamic_trace.gz,aes_aes/test_aes.cfg,\n",
      "-------------------------------\n",
      "      Setting ScratchPad       \n",
      "-------------------------------\n",
      "-------------------------------\n",
      "      Generating DDDG          \n",
      "-------------------------------\n",
      "-------------------------------1\n",
      "-------------------------------2\n",
      "-------------------------------\n",
      "Num of Nodes: 14811\n",
      "Num of Edges: 35693\n",
      "Num of Reg Edges: 19191\n",
      "Num of MEM Edges: 2132\n",
      "Num of Control Edges: 14810\n",
      "-------------------------------\n",
      "-------------------------------\n",
      "    Initializing BaseDatapath      \n",
      "-------------------------------\n",
      " Top level: aes256_encrypt_ecb\n",
      "=============================================\n",
      "      Optimizing...            aes\n",
      "=============================================\n",
      "  Removing 9081 edges.\n",
      "  Adding 6506 new edges.\n",
      "  Removing 491 isolated nodes.\n",
      "-------------------------------\n",
      "        Mem to Reg Conv        \n",
      "-------------------------------\n",
      "-------------------------------\n",
      "      ScratchPad Partition     \n",
      "-------------------------------\n",
      "cache_size 256\n",
      "line_size 4\n",
      "associativity 1\n",
      "rw_ports 1\n",
      "excl_read_ports 0\n",
      "excl_write_ports 0\n",
      "single_ended_read_ports 0\n",
      "search_ports 0\n",
      "banks 1\n",
      "Setting the ScratchPad\n",
      " array_label, base_addr, part_type, p_factor, size, wordsize\n",
      "ctx,38714112,1,1,96,1\n",
      "cache_size 256\n",
      "line_size 4\n",
      "associativity 1\n",
      "rw_ports 1\n",
      "excl_read_ports 0\n",
      "excl_write_ports 0\n",
      "single_ended_read_ports 0\n",
      "search_ports 0\n",
      "banks 1\n",
      "Setting the ScratchPad\n",
      " array_label, base_addr, part_type, p_factor, size, wordsize\n",
      "buf,38714240,1,1,16,1\n",
      "cache_size 256\n",
      "line_size 4\n",
      "associativity 1\n",
      "rw_ports 1\n",
      "excl_read_ports 0\n",
      "excl_write_ports 0\n",
      "single_ended_read_ports 0\n",
      "search_ports 0\n",
      "banks 1\n",
      "Setting the ScratchPad\n",
      " array_label, base_addr, part_type, p_factor, size, wordsize\n",
      "k,38714208,1,1,32,1\n",
      "  Removing 8 isolated nodes.\n",
      "  Removing 14 isolated nodes.\n",
      "  Adding 22288 new edges.\n",
      "  Removing 446 isolated nodes.\n",
      "  Removing 41 isolated nodes.\n",
      "  Adding 62 new edges.\n",
      "  Removing 366 edges.\n",
      "  Removing 0 isolated nodes.\n",
      "  Adding 1176 new edges.\n",
      "  Removing 392 isolated nodes.\n",
      "  Removing 0 isolated nodes.\n",
      "  Adding 0 new edges.\n",
      "  Removing 0 edges.\n",
      "  Adding 0 new edges.\n",
      "  Removing 0 isolated nodes.\n",
      "  Removing 336 edges.\n",
      "  Adding 336 new edges.\n",
      "  Removing 0 isolated nodes.\n",
      "  Removing 88 edges.\n",
      "  Adding 88 new edges.\n",
      "  Removing 0 isolated nodes.\n",
      "=============================================\n",
      "      Scheduling...            aes\n",
      "=============================================\n",
      "  Total connected nodes: 11371\n",
      "  Total edges: 47884\n",
      "=============================================\n",
      "part index is1load energy is 11.192part index is1load energy is 348.352part index is1load energy is 246.225===============================\n",
      "Running : aes\n",
      "Top level function: aes256_encrypt_ecb\n",
      "Cycle : 2136 cycles\n",
      "Avg Power: 21.6031 mW\n",
      "Idle FU Cycles: 793 cycles\n",
      "Avg FU Power: 20.992 mW\n",
      "Avg FU Dynamic Power: 1.52564 mW\n",
      "Avg FU leakage Power: 19.4664 mW\n",
      "Avg MEM Power: 0.61108 mW\n",
      "Avg MEM Dynamic Power: 0.604542 mW\n",
      "Avg MEM Leakage Power: 0.00653751 mW\n",
      "Total Area: 1.57815e+06 uM^2\n",
      "FU Area: 1.57488e+06 uM^2\n",
      "MEM Area: 3269.81 uM^2\n",
      "Num of Bit-wise Operators (32-bit): 79\n",
      "Num of Shifters (32-bit): 3\n",
      "Num of Registers (32-bit): 11\n",
      "===============================\n",
      "-------------------------------\n",
      "      Generating DDDG          \n",
      "-------------------------------\n",
      "-------------------------------1\n",
      "-------------------------------2\n",
      "-------------------------------\n",
      "Reached end of trace.\n",
      "-------------------------------\n",
      "\n"
     ]
    }
   ],
   "source": [
    "synthesis_hardware(\"aes\")"
   ]
  },
  {
   "cell_type": "markdown",
   "metadata": {
    "id": "U528nZvOaPn0"
   },
   "source": [
    "# Architecture Generation  : Google Bert"
   ]
  },
  {
   "cell_type": "markdown",
   "metadata": {
    "id": "bzaccOR7svEG"
   },
   "source": [
    "![image.png](attachment:image.png)"
   ]
  },
  {
   "cell_type": "code",
   "execution_count": null,
   "metadata": {
    "id": "WrVAL6_CsvEG",
    "outputId": "7ade80ad-66e6-461a-de8a-855cbcb777d3"
   },
   "outputs": [
    {
     "data": {
      "text/plain": [
       "transformers.modeling_bert.BertModel (\n",
       "\t%input.1: long[1, 16],\n",
       "\t%1: long[1, 512],\n",
       "\t%2: float[30522, 768],\n",
       "\t%3: float[512, 768],\n",
       "\t%4: float[2, 768],\n",
       "\t%5: float[768],\n",
       "\t%6: float[768],\n",
       "\t%7: float[768, 768],\n",
       "\t%8: float[768],\n",
       "\t%9: float[768, 768],\n",
       "\t%10: float[768],\n",
       "\t%11: float[768, 768],\n",
       "\t%12: float[768],\n",
       "\t%13: float[768, 768],\n",
       "\t%14: float[768],\n",
       "\t%15: float[768],\n",
       "\t%16: float[768],\n",
       "\t%17: float[3072, 768],\n",
       "\t%18: float[3072],\n",
       "\t%19: float[768, 3072],\n",
       "\t%20: float[768],\n",
       "\t%21: float[768],\n",
       "\t%22: float[768],\n",
       "\t%23: float[768, 768],\n",
       "\t%24: float[768],\n",
       "\t%25: float[768, 768],\n",
       "\t%26: float[768],\n",
       "\t%27: float[768, 768],\n",
       "\t%28: float[768],\n",
       "\t%29: float[768, 768],\n",
       "\t%30: float[768],\n",
       "\t%31: float[768],\n",
       "\t%32: float[768],\n",
       "\t%33: float[3072, 768],\n",
       "\t%34: float[3072],\n",
       "\t%35: float[768, 3072],\n",
       "\t%36: float[768],\n",
       "\t%37: float[768],\n",
       "\t%38: float[768],\n",
       "\t%39: float[768, 768],\n",
       "\t%40: float[768],\n",
       "\t%41: float[768, 768],\n",
       "\t%42: float[768],\n",
       "\t%43: float[768, 768],\n",
       "\t%44: float[768],\n",
       "\t%45: float[768, 768],\n",
       "\t%46: float[768],\n",
       "\t%47: float[768],\n",
       "\t%48: float[768],\n",
       "\t%49: float[3072, 768],\n",
       "\t%50: float[3072],\n",
       "\t%51: float[768, 3072],\n",
       "\t%52: float[768],\n",
       "\t%53: float[768],\n",
       "\t%54: float[768],\n",
       "\t%55: float[768, 768],\n",
       "\t%56: float[768],\n",
       "\t%57: float[768, 768],\n",
       "\t%58: float[768],\n",
       "\t%59: float[768, 768],\n",
       "\t%60: float[768],\n",
       "\t%61: float[768, 768],\n",
       "\t%62: float[768],\n",
       "\t%63: float[768],\n",
       "\t%64: float[768],\n",
       "\t%65: float[3072, 768],\n",
       "\t%66: float[3072],\n",
       "\t%67: float[768, 3072],\n",
       "\t%68: float[768],\n",
       "\t%69: float[768],\n",
       "\t%70: float[768],\n",
       "\t%71: float[768, 768],\n",
       "\t%72: float[768],\n",
       "\t%73: float[768, 768],\n",
       "\t%74: float[768],\n",
       "\t%75: float[768, 768],\n",
       "\t%76: float[768],\n",
       "\t%77: float[768, 768],\n",
       "\t%78: float[768],\n",
       "\t%79: float[768],\n",
       "\t%80: float[768],\n",
       "\t%81: float[3072, 768],\n",
       "\t%82: float[3072],\n",
       "\t%83: float[768, 3072],\n",
       "\t%84: float[768],\n",
       "\t%85: float[768],\n",
       "\t%86: float[768],\n",
       "\t%87: float[768, 768],\n",
       "\t%88: float[768],\n",
       "\t%89: float[768, 768],\n",
       "\t%90: float[768],\n",
       "\t%91: float[768, 768],\n",
       "\t%92: float[768],\n",
       "\t%93: float[768, 768],\n",
       "\t%94: float[768],\n",
       "\t%95: float[768],\n",
       "\t%96: float[768],\n",
       "\t%97: float[3072, 768],\n",
       "\t%98: float[3072],\n",
       "\t%99: float[768, 3072],\n",
       "\t%100: float[768],\n",
       "\t%101: float[768],\n",
       "\t%102: float[768],\n",
       "\t%103: float[768, 768],\n",
       "\t%104: float[768],\n",
       "\t%105: float[768, 768],\n",
       "\t%106: float[768],\n",
       "\t%107: float[768, 768],\n",
       "\t%108: float[768],\n",
       "\t%109: float[768, 768],\n",
       "\t%110: float[768],\n",
       "\t%111: float[768],\n",
       "\t%112: float[768],\n",
       "\t%113: float[3072, 768],\n",
       "\t%114: float[3072],\n",
       "\t%115: float[768, 3072],\n",
       "\t%116: float[768],\n",
       "\t%117: float[768],\n",
       "\t%118: float[768],\n",
       "\t%119: float[768, 768],\n",
       "\t%120: float[768],\n",
       "\t%121: float[768, 768],\n",
       "\t%122: float[768],\n",
       "\t%123: float[768, 768],\n",
       "\t%124: float[768],\n",
       "\t%125: float[768, 768],\n",
       "\t%126: float[768],\n",
       "\t%127: float[768],\n",
       "\t%128: float[768],\n",
       "\t%129: float[3072, 768],\n",
       "\t%130: float[3072],\n",
       "\t%131: float[768, 3072],\n",
       "\t%132: float[768],\n",
       "\t%133: float[768],\n",
       "\t%134: float[768],\n",
       "\t%135: float[768, 768],\n",
       "\t%136: float[768],\n",
       "\t%137: float[768, 768],\n",
       "\t%138: float[768],\n",
       "\t%139: float[768, 768],\n",
       "\t%140: float[768],\n",
       "\t%141: float[768, 768],\n",
       "\t%142: float[768],\n",
       "\t%143: float[768],\n",
       "\t%144: float[768],\n",
       "\t%145: float[3072, 768],\n",
       "\t%146: float[3072],\n",
       "\t%147: float[768, 3072],\n",
       "\t%148: float[768],\n",
       "\t%149: float[768],\n",
       "\t%150: float[768],\n",
       "\t%151: float[768, 768],\n",
       "\t%152: float[768],\n",
       "\t%153: float[768, 768],\n",
       "\t%154: float[768],\n",
       "\t%155: float[768, 768],\n",
       "\t%156: float[768],\n",
       "\t%157: float[768, 768],\n",
       "\t%158: float[768],\n",
       "\t%159: float[768],\n",
       "\t%160: float[768],\n",
       "\t%161: float[3072, 768],\n",
       "\t%162: float[3072],\n",
       "\t%163: float[768, 3072],\n",
       "\t%164: float[768],\n",
       "\t%165: float[768],\n",
       "\t%166: float[768],\n",
       "\t%167: float[768, 768],\n",
       "\t%168: float[768],\n",
       "\t%169: float[768, 768],\n",
       "\t%170: float[768],\n",
       "\t%171: float[768, 768],\n",
       "\t%172: float[768],\n",
       "\t%173: float[768, 768],\n",
       "\t%174: float[768],\n",
       "\t%175: float[768],\n",
       "\t%176: float[768],\n",
       "\t%177: float[3072, 768],\n",
       "\t%178: float[3072],\n",
       "\t%179: float[768, 3072],\n",
       "\t%180: float[768],\n",
       "\t%181: float[768],\n",
       "\t%182: float[768],\n",
       "\t%183: float[768, 768],\n",
       "\t%184: float[768],\n",
       "\t%185: float[768, 768],\n",
       "\t%186: float[768],\n",
       "\t%187: float[768, 768],\n",
       "\t%188: float[768],\n",
       "\t%189: float[768, 768],\n",
       "\t%190: float[768],\n",
       "\t%191: float[768],\n",
       "\t%192: float[768],\n",
       "\t%193: float[3072, 768],\n",
       "\t%194: float[3072],\n",
       "\t%195: float[768, 3072],\n",
       "\t%196: float[768],\n",
       "\t%197: float[768],\n",
       "\t%198: float[768],\n",
       "\t%199: float[768, 768],\n",
       "\t%200: float[768]\n",
       "):\n",
       "\taten::mul\n",
       "\taten::layer_norm\n",
       "\taten::matmul\n",
       "\taten::matmul\n",
       "\taten::matmul\n",
       "\taten::matmul\n",
       "\taten::matmul\n",
       "\taten::matmul\n",
       "\taten::layer_norm\n",
       "\taten::matmul\n",
       "\taten::matmul\n",
       "\taten::layer_norm\n",
       "\taten::matmul\n",
       "\taten::matmul\n",
       "\taten::matmul\n",
       "\taten::matmul\n",
       "\taten::matmul\n",
       "\taten::matmul\n",
       "\taten::layer_norm\n",
       "\taten::matmul\n",
       "\taten::matmul\n",
       "\taten::layer_norm\n",
       "\taten::matmul\n",
       "\taten::matmul\n",
       "\taten::matmul\n",
       "\taten::matmul\n",
       "\taten::matmul\n",
       "\taten::matmul\n",
       "\taten::layer_norm\n",
       "\taten::matmul\n",
       "\taten::matmul\n",
       "\taten::layer_norm\n",
       "\taten::matmul\n",
       "\taten::matmul\n",
       "\taten::matmul\n",
       "\taten::matmul\n",
       "\taten::matmul\n",
       "\taten::matmul\n",
       "\taten::layer_norm\n",
       "\taten::matmul\n",
       "\taten::matmul\n",
       "\taten::layer_norm\n",
       "\taten::matmul\n",
       "\taten::matmul\n",
       "\taten::matmul\n",
       "\taten::matmul\n",
       "\taten::matmul\n",
       "\taten::matmul\n",
       "\taten::layer_norm\n",
       "\taten::matmul\n",
       "\taten::matmul\n",
       "\taten::layer_norm\n",
       "\taten::matmul\n",
       "\taten::matmul\n",
       "\taten::matmul\n",
       "\taten::matmul\n",
       "\taten::matmul\n",
       "\taten::matmul\n",
       "\taten::layer_norm\n",
       "\taten::matmul\n",
       "\taten::matmul\n",
       "\taten::layer_norm\n",
       "\taten::matmul\n",
       "\taten::matmul\n",
       "\taten::matmul\n",
       "\taten::matmul\n",
       "\taten::matmul\n",
       "\taten::matmul\n",
       "\taten::layer_norm\n",
       "\taten::matmul\n",
       "\taten::matmul\n",
       "\taten::layer_norm\n",
       "\taten::matmul\n",
       "\taten::matmul\n",
       "\taten::matmul\n",
       "\taten::matmul\n",
       "\taten::matmul\n",
       "\taten::matmul\n",
       "\taten::layer_norm\n",
       "\taten::matmul\n",
       "\taten::matmul\n",
       "\taten::layer_norm\n",
       "\taten::matmul\n",
       "\taten::matmul\n",
       "\taten::matmul\n",
       "\taten::matmul\n",
       "\taten::matmul\n",
       "\taten::matmul\n",
       "\taten::layer_norm\n",
       "\taten::matmul\n",
       "\taten::matmul\n",
       "\taten::layer_norm\n",
       "\taten::matmul\n",
       "\taten::matmul\n",
       "\taten::matmul\n",
       "\taten::matmul\n",
       "\taten::matmul\n",
       "\taten::matmul\n",
       "\taten::layer_norm\n",
       "\taten::matmul\n",
       "\taten::matmul\n",
       "\taten::layer_norm\n",
       "\taten::matmul\n",
       "\taten::matmul\n",
       "\taten::matmul\n",
       "\taten::matmul\n",
       "\taten::matmul\n",
       "\taten::matmul\n",
       "\taten::layer_norm\n",
       "\taten::matmul\n",
       "\taten::matmul\n",
       "\taten::layer_norm\n",
       "\taten::matmul\n",
       "\taten::matmul\n",
       "\taten::matmul\n",
       "\taten::matmul\n",
       "\taten::matmul\n",
       "\taten::matmul\n",
       "\taten::layer_norm\n",
       "\taten::matmul\n",
       "\taten::matmul\n",
       "\taten::layer_norm\n",
       "\taten::addmm\n",
       "\treturn %2730: tuple[tensor, tensor]"
      ]
     },
     "execution_count": 13,
     "metadata": {},
     "output_type": "execute_result"
    }
   ],
   "source": [
    "bert_graph_data"
   ]
  },
  {
   "cell_type": "code",
   "execution_count": null,
   "metadata": {
    "id": "qqZvBowMaPn1",
    "outputId": "c8bdad91-0f4f-479a-9400-dc57a2d9be55"
   },
   "outputs": [
    {
     "name": "stdout",
     "output_type": "stream",
     "text": [
      "======Optimizing Design=========\n",
      "Faster :  6.300863118463623 Energy Improvement :  2.547587124233601 Area Budget :  0.6007853213621843\n"
     ]
    }
   ],
   "source": [
    "backprop = True\n",
    "import time\n",
    "start = time.time()\n",
    "# name = [\"vgg_graph\", \"resnet_graph\",\"bert_graph\",\"gpt2_graph\", \"dlrm_graph\"]\n",
    "# graph_list = [vgg11_graph, resnet_graph_data, bert_graph_data, gpt2_graph_data, dlrm_graph_data]\n",
    "graph_list = [bert_graph_data]\n",
    "name = [\"bert_graph_data\"]\n",
    "\n",
    "for i,graph in enumerate(graph_list):\n",
    "# for graph in [bert_graph_data]:\n",
    "    log_file_name = \"logs/\"+str(name[i])+str(backprop)\n",
    "    arch_time, arch_energy, arch_area = design_runner([graph], backprop, print_stats= False, stats_file = log_file_name)\n",
    "# end = time.time()\n",
    "# print(end-start)"
   ]
  },
  {
   "cell_type": "code",
   "execution_count": null,
   "metadata": {
    "id": "eA3SnbRvsvEH"
   },
   "outputs": [],
   "source": []
  },
  {
   "cell_type": "markdown",
   "metadata": {
    "id": "cD04OCpsaPn1"
   },
   "source": [
    "# 100X EDP : Technology Targets Generation (Google BERT)"
   ]
  },
  {
   "cell_type": "code",
   "execution_count": 1,
   "metadata": {
    "id": "GvBjDjHOaPn1",
    "outputId": "d942d31b-36a9-44ab-e16e-817155618236",
    "tags": []
   },
   "outputs": [],
   "source": [
    "# generate_tech_targets([bert_graph_data], name = \"BERT\", EDP = 100)"
   ]
  },
  {
   "cell_type": "markdown",
   "metadata": {
    "id": "7kCOV77BsvEI"
   },
   "source": [
    "# Algorithm Tranformation"
   ]
  },
  {
   "cell_type": "code",
   "execution_count": null,
   "metadata": {
    "id": "GFAH9C5lsvEI"
   },
   "outputs": [],
   "source": [
    "from algorithms import algo_optim.full"
   ]
  },
  {
   "cell_type": "code",
   "execution_count": null,
   "metadata": {
    "id": "ioVEzdJ5svEI"
   },
   "outputs": [],
   "source": [
    "# hw = 'illusion_nvm.yaml'\n",
    "# graph = resnet50_graph\n",
    "# bottlenecks, updated_graph = algo_optim.full(graph, hw)\n",
    "# # updated_graph -> to pytorch code, transformed\n",
    "# print(graph)\n",
    "# print(updated_graph)\n"
   ]
  },
  {
   "cell_type": "markdown",
   "metadata": {
    "id": "RvMB9KTSsvEI"
   },
   "source": [
    "# HPCG"
   ]
  },
  {
   "cell_type": "code",
   "execution_count": null,
   "metadata": {
    "id": "f4gtrOFUsvEI"
   },
   "outputs": [],
   "source": [
    "import ast\n",
    "\n",
    "from ir.staticfg.staticfg import CFGBuilder\n",
    "cfg = CFGBuilder().build_from_file(\n",
    "    \"hpcg.py\",\n",
    "    \"nonai_models/hpcg.py\",\n",
    ")\n",
    "cfg.build_visual(\"hpcg\", \"pdf\", show=False)\n",
    "# print(cfg)"
   ]
  },
  {
   "cell_type": "markdown",
   "metadata": {
    "id": "HzWCCZFCsvEJ"
   },
   "source": [
    "# Conjugate Gradient Top Level"
   ]
  },
  {
   "cell_type": "markdown",
   "metadata": {
    "id": "pi8CIBIjsvEJ"
   },
   "source": [
    "![image.png](attachment:image.png)"
   ]
  },
  {
   "cell_type": "markdown",
   "metadata": {
    "id": "QKjxaEnQsvEJ"
   },
   "source": [
    "# Step Length"
   ]
  },
  {
   "cell_type": "markdown",
   "metadata": {
    "id": "DO7y9WZ6svEJ"
   },
   "source": [
    "![image.png](attachment:image.png)"
   ]
  },
  {
   "cell_type": "markdown",
   "metadata": {
    "id": "FJZ67at6svEJ"
   },
   "source": [
    "# Interpolation"
   ]
  },
  {
   "cell_type": "markdown",
   "metadata": {
    "id": "muBfBlSlsvEJ"
   },
   "source": [
    "![image.png](attachment:image.png)"
   ]
  },
  {
   "cell_type": "markdown",
   "metadata": {
    "id": "Jlw-2K9osvEJ"
   },
   "source": [
    "# Strong wolfe"
   ]
  },
  {
   "cell_type": "markdown",
   "metadata": {
    "id": "1rO-xZrTsvEJ"
   },
   "source": [
    "![image.png](attachment:image.png)"
   ]
  },
  {
   "cell_type": "markdown",
   "metadata": {
    "id": "DmtWtcFZsvEJ"
   },
   "source": [
    "# Functions "
   ]
  },
  {
   "cell_type": "markdown",
   "metadata": {
    "id": "vuTJHmb4svEK"
   },
   "source": [
    "![image.png](attachment:image.png)"
   ]
  },
  {
   "cell_type": "code",
   "execution_count": null,
   "metadata": {
    "id": "u-UHPo9dsvEK"
   },
   "outputs": [],
   "source": []
  },
  {
   "cell_type": "code",
   "execution_count": null,
   "metadata": {
    "id": "1Ep5ie8TsvEK"
   },
   "outputs": [],
   "source": [
    "# synthesis_hardware(\"hpcg\")\n",
    "from synthesis.hls import parse_graph, get_stats\n",
    "parse_graph(cfg)\n",
    "get_stats(cfg)"
   ]
  },
  {
   "cell_type": "markdown",
   "metadata": {
    "id": "PjCoJcPbsvEK"
   },
   "source": [
    "## Processing Elements \n",
    "### 1. Sparse Matrix Multiplicaton : Dot Product\n",
    "### 2. SymGS : \n",
    "![image.png](attachment:image.png)"
   ]
  },
  {
   "cell_type": "markdown",
   "metadata": {
    "id": "Gi9cRyCfsvEK"
   },
   "source": [
    "## 100X EDP : Technology Targets Generation"
   ]
  },
  {
   "cell_type": "code",
   "execution_count": null,
   "metadata": {
    "id": "xR5fM68wsvEK",
    "outputId": "c36f86a3-7211-4d7f-c589-ec491fd5a805"
   },
   "outputs": [
    {
     "name": "stdout",
     "output_type": "stream",
     "text": [
      "For Benefit of EDP  100\n",
      "Generating Technology Targets\n",
      "External Memory Connectivity : 31x (T : 9.5, E : 2.3)\n",
      "Logic Energy : 6x (T: 1.0, E: 2.1)\n",
      "Logic Latency,  NoC Connectivity : 2x (T: 1.9, E:1.1)\n"
     ]
    },
    {
     "data": {
      "text/plain": [
       "{}"
      ]
     },
     "execution_count": 8,
     "metadata": {},
     "output_type": "execute_result"
    }
   ],
   "source": [
    "generate_tech_targets(cfg, name = \"hpcg\", EDP = 100)"
   ]
  },
  {
   "cell_type": "code",
   "execution_count": null,
   "metadata": {
    "id": "1NrL-SIosvEK"
   },
   "outputs": [],
   "source": []
  }
 ],
 "metadata": {
  "colab": {
   "name": "Demo.ipynb",
   "provenance": [],
   "toc_visible": true
  },
  "kernelspec": {
   "display_name": "Python 3",
   "language": "python",
   "name": "python3"
  },
  "language_info": {
   "codemirror_mode": {
    "name": "ipython",
    "version": 3
   },
   "file_extension": ".py",
   "mimetype": "text/x-python",
   "name": "python",
   "nbconvert_exporter": "python",
   "pygments_lexer": "ipython3",
   "version": "3.9.7"
  }
 },
 "nbformat": 4,
 "nbformat_minor": 1
}
