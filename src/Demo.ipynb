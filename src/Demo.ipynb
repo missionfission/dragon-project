{
  "nbformat": 4,
  "nbformat_minor": 0,
  "metadata": {
    "kernelspec": {
      "display_name": "Python 3.6.4 64-bit ('dl': conda)",
      "language": "python",
      "name": "python36464bitdlconda74ce50dd77ab450dad146f0ee6a8041f"
    },
    "language_info": {
      "codemirror_mode": {
        "name": "ipython",
        "version": 3
      },
      "file_extension": ".py",
      "mimetype": "text/x-python",
      "name": "python",
      "nbconvert_exporter": "python",
      "pygments_lexer": "ipython3",
      "version": "3.6.4"
    },
    "colab": {
      "name": "Demo.ipynb",
      "provenance": [],
      "toc_visible": true
    }
  },
  "cells": [
    {
      "cell_type": "code",
      "metadata": {
        "id": "cX3CQ3BPaT6_"
      },
      "source": [
        "\r\n",
        "import os\r\n",
        "from getpass import getpass\r\n",
        "user = getpass('GitHub user')\r\n",
        "password = getpass('GitHub password')\r\n",
        "os.environ['GITHUB_AUTH'] = user + ':' + password\r\n",
        "!git clone https://$GITHUB_AUTH@github.com/missionfission/dragon-project"
      ],
      "execution_count": null,
      "outputs": []
    },
    {
      "cell_type": "code",
      "metadata": {
        "id": "XK7XUtwncgf1"
      },
      "source": [
        ""
      ],
      "execution_count": 22,
      "outputs": []
    },
    {
      "cell_type": "code",
      "metadata": {
        "id": "fDsXo8AEaxSk"
      },
      "source": [
        "# !pip install dragon-project/requirements.txt\r\n",
        "# !pip install yamlordereddictloader\r\n",
        "# !pip install transformers==4.0\r\n",
        "# %cd dragon-project/src\r\n",
        "%mkdir iters\r\n",
        "%mkdir logs\r\n",
        "# !ls\r\n",
        "# !git clone https://github.com/facebookresearch/dlrm\r\n"
      ],
      "execution_count": 31,
      "outputs": []
    },
    {
      "cell_type": "code",
      "metadata": {
        "id": "8ZgPR-xbaPnh",
        "outputId": "046a243c-364f-470a-d384-7c7d3209d32e",
        "colab": {
          "base_uri": "https://localhost:8080/"
        }
      },
      "source": [
        "%load_ext autoreload\n",
        "\n",
        "%autoreload 2\n",
        "\n",
        "import glob\n",
        "import os\n",
        "import sys\n",
        "from collections import deque\n",
        "from copy import deepcopy\n",
        "\n",
        "import numpy as np\n",
        "import torch\n",
        "import torch.nn as nn\n",
        "import yaml\n",
        "import yamlordereddictloader\n",
        "\n",
        "from torchvision import models\n",
        "from yaml import dump\n",
        "from scheduling import Scheduling\n",
        "from generator import Generator, get_mem_props\n",
        "from generator import *\n",
        "from utils.visualizer import *\n",
        "from ir.trace import trace\n",
        "from ddfg_main import synthesis_hardware\n",
        "from main import design_tech_runner, design_runner, run_single"
      ],
      "execution_count": 13,
      "outputs": [
        {
          "output_type": "stream",
          "text": [
            "The autoreload extension is already loaded. To reload it, use:\n",
            "  %reload_ext autoreload\n"
          ],
          "name": "stdout"
        }
      ]
    },
    {
      "cell_type": "code",
      "metadata": {
        "id": "bpES1ouPaPny"
      },
      "source": [
        "from common_models import alexnet_graph, vggnet_graph, resnet_graph, bert_graph, gpt2_graph, dlrm_graph, alexnet_graph, langmodel_graph\n",
        "# design_runner([vggnet_graph()])\n",
        "# # for node in dlrm_graph.nodes:\n",
        "# #     print(node.in_edge_mem + node.mem_fetch + node.out_edge_mem, node.compute_expense )\n",
        "\n",
        "# design_tech_runner([dlrm_graph])\n",
        "vgg11_graph = vggnet_graph()\n",
        "resnet_graph_data = resnet_graph()\n",
        "alexnet_data = alexnet_graph()\n",
        "langmod_graph1, langmod_graph2 = langmodel_graph()\n",
        "# dlrm_graph_data = dlrm_graph()\n",
        "bert_graph_data = bert_graph()\n",
        "gpt2_graph_data = gpt2_graph()\n",
        "# \n",
        "# from nonai_models.graph_processing import graph_processing"
      ],
      "execution_count": 29,
      "outputs": []
    },
    {
      "cell_type": "markdown",
      "metadata": {
        "id": "2kqyOQAWaPny"
      },
      "source": [
        "## Example 1 : Resnet 50 : Performance Estimation "
      ]
    },
    {
      "cell_type": "code",
      "metadata": {
        "id": "Ujxu3TRGaPnz"
      },
      "source": [
        "run_single(resnet_graph_data, backprop=False, print_stats=True, filename = 'illusion_nvm.yaml', mapping=\"nn_dataflow\")"
      ],
      "execution_count": null,
      "outputs": []
    },
    {
      "cell_type": "markdown",
      "metadata": {
        "id": "4xCQAF2UaPnz"
      },
      "source": [
        "## Example 2 : Non-AI Graph Processing : Architecture Synthesis and Performance Estimation "
      ]
    },
    {
      "cell_type": "code",
      "metadata": {
        "id": "bFbTyfhDaPnz"
      },
      "source": [
        "import ast\n",
        "\n",
        "from ir.staticfg.staticfg import CFGBuilder\n",
        "cfg = CFGBuilder().build_from_file(\n",
        "    \"aes.py\",\n",
        "    \"nonai_models/aes.py\",\n",
        ")\n",
        "# cfg.build_visual(\"aes\", \"pdf\", show=True)\n",
        "# print(cfg)"
      ],
      "execution_count": null,
      "outputs": []
    },
    {
      "cell_type": "code",
      "metadata": {
        "id": "Gvs5B0dAaPn0"
      },
      "source": [
        "synthesis_hardware(\"bfs\")"
      ],
      "execution_count": null,
      "outputs": []
    },
    {
      "cell_type": "code",
      "metadata": {
        "id": "lMrHTqtoaPn0"
      },
      "source": [
        "synthesis_hardware(\"aes\")"
      ],
      "execution_count": null,
      "outputs": []
    },
    {
      "cell_type": "markdown",
      "metadata": {
        "id": "U528nZvOaPn0"
      },
      "source": [
        "## Architecture Generation  : Google Bert"
      ]
    },
    {
      "cell_type": "code",
      "metadata": {
        "id": "qqZvBowMaPn1"
      },
      "source": [
        "backprop = False\n",
        "import time\n",
        "start = time.time()\n",
        "# name = [\"vgg_graph\", \"resnet_graph\",\"bert_graph\",\"gpt2_graph\", \"dlrm_graph\"]\n",
        "# graph_list = [vgg11_graph, resnet_graph_data, bert_graph_data, gpt2_graph_data, dlrm_graph_data]\n",
        "graph_list = [bert_graph_data]\n",
        "name = [\"bert_graph_data\"]\n",
        "\n",
        "for i,graph in enumerate(graph_list):\n",
        "# for graph in [bert_graph_data]:\n",
        "    log_file_name = \"logs/\"+str(name[i])+str(backprop)\n",
        "    arch_time, arch_energy, arch_area = design_runner([graph], backprop, print_stats= True, stats_file = log_file_name)\n",
        "# end = time.time()\n",
        "# print(end-start)"
      ],
      "execution_count": null,
      "outputs": []
    },
    {
      "cell_type": "markdown",
      "metadata": {
        "id": "cD04OCpsaPn1"
      },
      "source": [
        "## Technology Targets Generation"
      ]
    },
    {
      "cell_type": "code",
      "metadata": {
        "id": "GvBjDjHOaPn1"
      },
      "source": [
        ""
      ],
      "execution_count": null,
      "outputs": []
    }
  ]
}