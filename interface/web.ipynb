{
 "cells": [
  {
   "cell_type": "code",
   "execution_count": 1,
   "source": [
    "# !pip install gradio\n",
    "import gradio as gr, matplotlib.pyplot as plt\n",
    "\n",
    "def run_interface(ML_Workloads, Custom_Workload_Configuration, Select_Run_Configuration, Desired_Performance_for_Optimal_Technology ,  Design_File, Technology_File, Constraints_File):\n",
    "    \n",
    "    return \"Execution.txt\"\n",
    " \n"
   ],
   "outputs": [],
   "metadata": {}
  },
  {
   "cell_type": "code",
   "execution_count": 4,
   "source": [
    "Workload = gr.inputs.Dropdown([\"VGG-NET\", \"ResNet\", \"Bert\", \"GPT-2\", \"DLRM\"])\n",
    "Custom_Workload = gr.inputs.File()\n",
    "Configuration = gr.inputs.Dropdown([\"Performance Esimation\", \"Find Optimal Architecture\", \"Derive Technology Parameters\"])\n",
    "Desired_Performance_for_Optimal_Technology = gr.inputs.Number()\n",
    "# area_constraint = gr.inputs.Slider(1,100)\n",
    "Design_File = gr.inputs.File()\n",
    "Technology_File = gr.inputs.File()\n",
    "Constraints_File = gr.inputs.File()\n",
    "# CheckboxGroup([\"USA\", \"Canada\", \"Mexico\", \"UK\"])\n",
    "# r = gr.inputs.Slider(1, 5)\n",
    "# \"checkbox\"\n",
    "# output_file = gr.outputs.File()\n",
    "\n",
    "gr.Interface(fn=run_interface, inputs=[Workload, Custom_Workload, Configuration, Desired_Performance_for_Optimal_Technology,  Design_File, Technology_File, Constraints_File], outputs=\"file\").launch(share=True)"
   ],
   "outputs": [
    {
     "output_type": "stream",
     "name": "stdout",
     "text": [
      "Running locally at: http://127.0.0.1:7861/\n",
      "This share link will expire in 24 hours. If you need a permanent link, visit: https://gradio.app/introducing-hosted (NEW!)\n",
      "Running on External URL: https://15881.gradio.app\n",
      "Interface loading below...\n"
     ]
    },
    {
     "output_type": "display_data",
     "data": {
      "text/plain": [
       "<IPython.lib.display.IFrame at 0x7ff0637a9fa0>"
      ],
      "text/html": [
       "\n",
       "        <iframe\n",
       "            width=\"900\"\n",
       "            height=\"500\"\n",
       "            src=\"https://15881.gradio.app\"\n",
       "            frameborder=\"0\"\n",
       "            allowfullscreen\n",
       "        ></iframe>\n",
       "        "
      ]
     },
     "metadata": {}
    },
    {
     "output_type": "execute_result",
     "data": {
      "text/plain": [
       "(<Flask 'gradio.networking'>,\n",
       " 'http://127.0.0.1:7861/',\n",
       " 'https://15881.gradio.app')"
      ]
     },
     "metadata": {},
     "execution_count": 4
    }
   ],
   "metadata": {
    "scrolled": true,
    "tags": []
   }
  }
 ],
 "metadata": {
  "kernelspec": {
   "name": "python3",
   "display_name": "Python 3.8.10 64-bit"
  },
  "language_info": {
   "codemirror_mode": {
    "name": "ipython",
    "version": 3
   },
   "file_extension": ".py",
   "mimetype": "text/x-python",
   "name": "python",
   "nbconvert_exporter": "python",
   "pygments_lexer": "ipython3",
   "version": "3.8.10"
  },
  "interpreter": {
   "hash": "916dbcbb3f70747c44a77c7bcd40155683ae19c65e1c03b4aa3499c5328201f1"
  }
 },
 "nbformat": 4,
 "nbformat_minor": 2
}