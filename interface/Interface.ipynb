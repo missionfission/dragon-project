{
 "cells": [
  {
   "cell_type": "code",
   "execution_count": 2,
   "source": [
    "!pip install gradio\n",
    "import gradio as gr, matplotlib.pyplot as plt\n",
    "\n",
    "def run_interface(ML_Workloads, Custom_Workload_Configuration, Select_Run_Configuration, Desired_Performance_for_Optimal_Technology ,  Design_File, Technology_File, Constraints_File):\n",
    "    \n",
    "    return \"Execution.txt\"\n",
    " \n"
   ],
   "outputs": [
    {
     "output_type": "stream",
     "name": "stdout",
     "text": [
      "Collecting gradio\n",
      "  Using cached gradio-2.2.14-py3-none-any.whl (3.4 MB)\n",
      "Collecting pycryptodome\n",
      "  Downloading pycryptodome-3.10.1-cp35-abi3-manylinux2010_x86_64.whl (1.9 MB)\n",
      "\u001b[K     |████████████████████████████████| 1.9 MB 7.2 MB/s \n",
      "\u001b[?25hCollecting pandas\n",
      "  Using cached pandas-1.3.2-cp38-cp38-manylinux_2_17_x86_64.manylinux2014_x86_64.whl (11.5 MB)\n",
      "Collecting scipy\n",
      "  Using cached scipy-1.7.1-cp38-cp38-manylinux_2_5_x86_64.manylinux1_x86_64.whl (28.4 MB)\n",
      "Collecting pillow\n",
      "  Downloading Pillow-8.3.1-cp38-cp38-manylinux_2_5_x86_64.manylinux1_x86_64.whl (3.0 MB)\n",
      "\u001b[K     |████████████████████████████████| 3.0 MB 18.0 MB/s \n",
      "\u001b[?25hCollecting Flask-Cors>=3.0.8\n",
      "  Downloading Flask_Cors-3.0.10-py2.py3-none-any.whl (14 kB)\n",
      "Requirement already satisfied: requests in /usr/lib/python3/dist-packages (from gradio) (2.22.0)\n",
      "Collecting flask-cachebuster\n",
      "  Downloading Flask-CacheBuster-1.0.0.tar.gz (3.1 kB)\n",
      "Collecting paramiko\n",
      "  Downloading paramiko-2.7.2-py2.py3-none-any.whl (206 kB)\n",
      "\u001b[K     |████████████████████████████████| 206 kB 9.5 MB/s \n",
      "\u001b[?25hCollecting numpy\n",
      "  Downloading numpy-1.21.2-cp38-cp38-manylinux_2_12_x86_64.manylinux2010_x86_64.whl (15.8 MB)\n",
      "\u001b[K     |████████████████████████████████| 15.8 MB 17.5 MB/s \n",
      "\u001b[?25hCollecting matplotlib\n",
      "  Downloading matplotlib-3.4.3-cp38-cp38-manylinux1_x86_64.whl (10.3 MB)\n",
      "\u001b[K     |████████████████████████████████| 10.3 MB 19.3 MB/s \n",
      "\u001b[?25hCollecting Flask-Login\n",
      "  Using cached Flask_Login-0.5.0-py2.py3-none-any.whl (16 kB)\n",
      "Collecting analytics-python\n",
      "  Using cached analytics_python-1.4.0-py2.py3-none-any.whl (15 kB)\n",
      "Collecting markdown2\n",
      "  Downloading markdown2-2.4.1-py2.py3-none-any.whl (34 kB)\n",
      "Collecting Flask>=1.1.1\n",
      "  Downloading Flask-2.0.1-py3-none-any.whl (94 kB)\n",
      "\u001b[K     |████████████████████████████████| 94 kB 1.6 MB/s \n",
      "\u001b[?25hCollecting ffmpy\n",
      "  Using cached ffmpy-0.3.0.tar.gz (4.8 kB)\n",
      "Collecting pytz>=2017.3\n",
      "  Downloading pytz-2021.1-py2.py3-none-any.whl (510 kB)\n",
      "\u001b[K     |████████████████████████████████| 510 kB 16.8 MB/s \n",
      "\u001b[?25hRequirement already satisfied: python-dateutil>=2.7.3 in /usr/local/lib/python3.8/dist-packages (from pandas->gradio) (2.8.2)\n",
      "Requirement already satisfied: Six in /usr/lib/python3/dist-packages (from Flask-Cors>=3.0.8->gradio) (1.14.0)\n",
      "Requirement already satisfied: pynacl>=1.0.1 in /usr/lib/python3/dist-packages (from paramiko->gradio) (1.3.0)\n",
      "Collecting bcrypt>=3.1.3\n",
      "  Downloading bcrypt-3.2.0-cp36-abi3-manylinux2010_x86_64.whl (63 kB)\n",
      "\u001b[K     |████████████████████████████████| 63 kB 1.3 MB/s \n",
      "\u001b[?25hRequirement already satisfied: cryptography>=2.5 in /usr/lib/python3/dist-packages (from paramiko->gradio) (2.8)\n",
      "Collecting kiwisolver>=1.0.1\n",
      "  Downloading kiwisolver-1.3.1-cp38-cp38-manylinux1_x86_64.whl (1.2 MB)\n",
      "\u001b[K     |████████████████████████████████| 1.2 MB 13.9 MB/s \n",
      "\u001b[?25hCollecting pyparsing>=2.2.1\n",
      "  Downloading pyparsing-2.4.7-py2.py3-none-any.whl (67 kB)\n",
      "\u001b[K     |████████████████████████████████| 67 kB 1.7 MB/s \n",
      "\u001b[?25hCollecting cycler>=0.10\n",
      "  Downloading cycler-0.10.0-py2.py3-none-any.whl (6.5 kB)\n",
      "Collecting backoff==1.10.0\n",
      "  Downloading backoff-1.10.0-py2.py3-none-any.whl (31 kB)\n",
      "Collecting monotonic>=1.5\n",
      "  Downloading monotonic-1.6-py2.py3-none-any.whl (8.2 kB)\n",
      "Collecting itsdangerous>=2.0\n",
      "  Downloading itsdangerous-2.0.1-py3-none-any.whl (18 kB)\n",
      "Requirement already satisfied: Jinja2>=3.0 in /usr/local/lib/python3.8/dist-packages (from Flask>=1.1.1->gradio) (3.0.1)\n",
      "Collecting Werkzeug>=2.0\n",
      "  Downloading Werkzeug-2.0.1-py3-none-any.whl (288 kB)\n",
      "\u001b[K     |████████████████████████████████| 288 kB 14.1 MB/s \n",
      "\u001b[?25hCollecting click>=7.1.2\n",
      "  Downloading click-8.0.1-py3-none-any.whl (97 kB)\n",
      "\u001b[K     |████████████████████████████████| 97 kB 2.5 MB/s \n",
      "\u001b[?25hCollecting cffi>=1.1\n",
      "  Downloading cffi-1.14.6-cp38-cp38-manylinux1_x86_64.whl (411 kB)\n",
      "\u001b[K     |████████████████████████████████| 411 kB 13.8 MB/s \n",
      "\u001b[?25hCollecting MarkupSafe>=2.0\n",
      "  Downloading MarkupSafe-2.0.1-cp38-cp38-manylinux2010_x86_64.whl (30 kB)\n",
      "Collecting pycparser\n",
      "  Downloading pycparser-2.20-py2.py3-none-any.whl (112 kB)\n",
      "\u001b[K     |████████████████████████████████| 112 kB 18.3 MB/s \n",
      "\u001b[?25hBuilding wheels for collected packages: flask-cachebuster, ffmpy\n",
      "  Building wheel for flask-cachebuster (setup.py) ... \u001b[?25ldone\n",
      "\u001b[?25h  Created wheel for flask-cachebuster: filename=Flask_CacheBuster-1.0.0-py3-none-any.whl size=3371 sha256=20488780a95e8bd8a70ca0fc0b12b58aca0bdf0f50c790d8823224716e2f06e9\n",
      "  Stored in directory: /root/.cache/pip/wheels/27/1b/de/34a3e06893944387266e2e7e93d33243589f01ac1b451e367b\n",
      "  Building wheel for ffmpy (setup.py) ... \u001b[?25ldone\n",
      "\u001b[?25h  Created wheel for ffmpy: filename=ffmpy-0.3.0-py3-none-any.whl size=4709 sha256=30f043e1267fe81c979872a9c40d51db1e667b9ab04bf468f8cccdd871375d80\n",
      "  Stored in directory: /root/.cache/pip/wheels/ff/5b/59/913b443e7369dc04b61f607a746b6f7d83fb65e2e19fcc958d\n",
      "Successfully built flask-cachebuster ffmpy\n",
      "Installing collected packages: pycryptodome, pytz, numpy, pandas, scipy, pillow, itsdangerous, Werkzeug, click, Flask, Flask-Cors, flask-cachebuster, pycparser, cffi, bcrypt, paramiko, kiwisolver, pyparsing, cycler, matplotlib, Flask-Login, backoff, monotonic, analytics-python, markdown2, ffmpy, gradio, MarkupSafe\n",
      "  Attempting uninstall: click\n",
      "    Found existing installation: Click 7.0\n",
      "    Not uninstalling click at /usr/lib/python3/dist-packages, outside environment /usr\n",
      "    Can't uninstall 'Click'. No files were found to uninstall.\n",
      "  Attempting uninstall: MarkupSafe\n",
      "    Found existing installation: MarkupSafe 1.1.0\n",
      "    Not uninstalling markupsafe at /usr/lib/python3/dist-packages, outside environment /usr\n",
      "    Can't uninstall 'MarkupSafe'. No files were found to uninstall.\n",
      "Successfully installed Flask-2.0.1 Flask-Cors-3.0.10 Flask-Login-0.5.0 MarkupSafe-2.0.1 Werkzeug-2.0.1 analytics-python-1.4.0 backoff-1.10.0 bcrypt-3.2.0 cffi-1.14.6 click-8.0.1 cycler-0.10.0 ffmpy-0.3.0 flask-cachebuster-1.0.0 gradio-2.2.14 itsdangerous-2.0.1 kiwisolver-1.3.1 markdown2-2.4.1 matplotlib-3.4.3 monotonic-1.6 numpy-1.21.2 pandas-1.3.2 paramiko-2.7.2 pillow-8.3.1 pycparser-2.20 pycryptodome-3.10.1 pyparsing-2.4.7 pytz-2021.1 scipy-1.7.1\n"
     ]
    }
   ],
   "metadata": {}
  },
  {
   "cell_type": "code",
   "execution_count": 4,
   "source": [
    "Workload = gr.inputs.Dropdown([\"VGG-NET\", \"ResNet\", \"Bert\", \"GPT-2\", \"DLRM\"])\n",
    "Custom_Workload = gr.inputs.File()\n",
    "Configuration = gr.inputs.Dropdown([\"Performance Esimation\", \"Find Optimal Architecture\", \"Derive Technology Parameters\"])\n",
    "Desired_Performance_for_Optimal_Technology = gr.inputs.Number()\n",
    "# area_constraint = gr.inputs.Slider(1,100)\n",
    "Design_File = gr.inputs.File()\n",
    "Technology_File = gr.inputs.File()\n",
    "Constraints_File = gr.inputs.File()\n",
    "# CheckboxGroup([\"USA\", \"Canada\", \"Mexico\", \"UK\"])\n",
    "# r = gr.inputs.Slider(1, 5)\n",
    "# \"checkbox\"\n",
    "# output_file = gr.outputs.File()\n",
    "\n",
    "gr.Interface(fn=run_interface, inputs=[Workload, Custom_Workload, Configuration, Desired_Performance_for_Optimal_Technology,  Design_File, Technology_File, Constraints_File], outputs=\"file\").launch(share=True)"
   ],
   "outputs": [
    {
     "output_type": "stream",
     "name": "stdout",
     "text": [
      "Running locally at: http://127.0.0.1:7861/\n",
      "This share link will expire in 24 hours. If you need a permanent link, visit: https://gradio.app/introducing-hosted (NEW!)\n",
      "Running on External URL: https://15881.gradio.app\n",
      "Interface loading below...\n"
     ]
    },
    {
     "output_type": "display_data",
     "data": {
      "text/plain": [
       "<IPython.lib.display.IFrame at 0x7ff0637a9fa0>"
      ],
      "text/html": [
       "\n",
       "        <iframe\n",
       "            width=\"900\"\n",
       "            height=\"500\"\n",
       "            src=\"https://15881.gradio.app\"\n",
       "            frameborder=\"0\"\n",
       "            allowfullscreen\n",
       "        ></iframe>\n",
       "        "
      ]
     },
     "metadata": {}
    },
    {
     "output_type": "execute_result",
     "data": {
      "text/plain": [
       "(<Flask 'gradio.networking'>,\n",
       " 'http://127.0.0.1:7861/',\n",
       " 'https://15881.gradio.app')"
      ]
     },
     "metadata": {},
     "execution_count": 4
    }
   ],
   "metadata": {
    "scrolled": true,
    "tags": []
   }
  }
 ],
 "metadata": {
  "kernelspec": {
   "name": "python3",
   "display_name": "Python 3.8.10 64-bit"
  },
  "language_info": {
   "codemirror_mode": {
    "name": "ipython",
    "version": 3
   },
   "file_extension": ".py",
   "mimetype": "text/x-python",
   "name": "python",
   "nbconvert_exporter": "python",
   "pygments_lexer": "ipython3",
   "version": "3.8.10"
  },
  "interpreter": {
   "hash": "916dbcbb3f70747c44a77c7bcd40155683ae19c65e1c03b4aa3499c5328201f1"
  }
 },
 "nbformat": 4,
 "nbformat_minor": 2
}