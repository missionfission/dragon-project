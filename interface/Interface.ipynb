{
 "cells": [
  {
   "cell_type": "code",
   "execution_count": 1,
   "metadata": {},
   "outputs": [],
   "source": [
    "import gradio as gr, matplotlib.pyplot as plt\n",
    "\n",
    "def run_interface(Workload, Configuration, Desired_Performance_for_Optimal_Technology , area_constraint, Hardware_Configuration_File):\n",
    "    pass\n",
    " \n"
   ]
  },
  {
   "cell_type": "code",
   "execution_count": 4,
   "metadata": {
    "scrolled": true,
    "tags": []
   },
   "outputs": [
    {
     "output_type": "stream",
     "name": "stdout",
     "text": "Running locally at: http://127.0.0.1:7862/\nThis share link will expire in 6 hours. If you need a permanent link, email support@gradio.app\nRunning on External URL: https://37927.gradio.app\nInterface loading below...\n"
    },
    {
     "output_type": "display_data",
     "data": {
      "text/plain": "<IPython.lib.display.IFrame at 0x7fa338714518>",
      "text/html": "\n        <iframe\n            width=\"1000\"\n            height=\"500\"\n            src=\"https://37927.gradio.app\"\n            frameborder=\"0\"\n            allowfullscreen\n        ></iframe>\n        "
     },
     "metadata": {}
    },
    {
     "output_type": "execute_result",
     "data": {
      "text/plain": "(<Flask 'gradio.networking'>,\n 'http://127.0.0.1:7862/',\n 'https://37927.gradio.app')"
     },
     "metadata": {},
     "execution_count": 4
    }
   ],
   "source": [
    "Workload = gr.inputs.Dropdown([\"VGG-NET\", \"ResNet\", \"Bert\", \"GPT-2\", \"DLRM\"])\n",
    "Configuration = gr.inputs.Dropdown([\"Performance Esimation\", \"Find Optimal Architecture\", \"Find Optimal Technology\"])\n",
    "Desired_Performance_for_Optimal_Technology = gr.inputs.Number()\n",
    "area_constraint = gr.inputs.Slider(1,100)\n",
    "Hardware_File = gr.inputs.File(\"yaml\")\n",
    "\n",
    "# CheckboxGroup([\"USA\", \"Canada\", \"Mexico\", \"UK\"])\n",
    "# r = gr.inputs.Slider(1, 5)\n",
    "# \"checkbox\"\n",
    "\n",
    "gr.Interface(fn=run_interface, inputs=[Workload, Configuration, Desired_Performance_for_Optimal_Technology, area_constraint, Hardware_File], outputs=\"plot\").launch(share=True)"
   ]
  },
  {
   "cell_type": "code",
   "execution_count": 9,
   "metadata": {},
   "outputs": [],
   "source": []
  },
  {
   "cell_type": "code",
   "execution_count": null,
   "metadata": {},
   "outputs": [],
   "source": []
  }
 ],
 "metadata": {
  "kernelspec": {
   "display_name": "Python 3.6.4 64-bit ('dl': conda)",
   "language": "python",
   "name": "python36464bitdlconda74ce50dd77ab450dad146f0ee6a8041f"
  },
  "language_info": {
   "codemirror_mode": {
    "name": "ipython",
    "version": 3
   },
   "file_extension": ".py",
   "mimetype": "text/x-python",
   "name": "python",
   "nbconvert_exporter": "python",
   "pygments_lexer": "ipython3",
   "version": "3.6.4-final"
  }
 },
 "nbformat": 4,
 "nbformat_minor": 2
}