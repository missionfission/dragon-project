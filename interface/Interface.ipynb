{
 "cells": [
  {
   "cell_type": "code",
   "execution_count": null,
   "metadata": {},
   "outputs": [],
   "source": [
    "import gradio as gr, matplotlib.pyplot as plt\n",
    "\n",
    "def run_interface(ML_Workloads, Custom_Workload_Configuration, Select_Run_Configuration, Desired_Performance_for_Optimal_Technology ,  Design_File, Technology_File, Constraints_File):\n",
    "    \n",
    "    return \"Execution.txt\"\n",
    " \n"
   ]
  },
  {
   "cell_type": "code",
   "execution_count": null,
   "metadata": {
    "scrolled": true,
    "tags": []
   },
   "outputs": [],
   "source": [
    "Workload = gr.inputs.Dropdown([\"VGG-NET\", \"ResNet\", \"Bert\", \"GPT-2\", \"DLRM\"])\n",
    "Custom_Workload = gr.inputs.File()\n",
    "Configuration = gr.inputs.Dropdown([\"Performance Esimation\", \"Find Optimal Architecture\", \"Derive Technology Parameters\"])\n",
    "Desired_Performance_for_Optimal_Technology = gr.inputs.Number()\n",
    "# area_constraint = gr.inputs.Slider(1,100)\n",
    "Design_File = gr.inputs.File()\n",
    "Technology_File = gr.inputs.File()\n",
    "Constraints_File = gr.inputs.File()\n",
    "# CheckboxGroup([\"USA\", \"Canada\", \"Mexico\", \"UK\"])\n",
    "# r = gr.inputs.Slider(1, 5)\n",
    "# \"checkbox\"\n",
    "# output_file = gr.outputs.File()\n",
    "\n",
    "gr.Interface(fn=run_interface, inputs=[Workload, Custom_Workload, Configuration, Desired_Performance_for_Optimal_Technology,  Design_File, Technology_File, Constraints_File], outputs=\"file\").launch(share=True)"
   ]
  },
  {
   "cell_type": "code",
   "execution_count": null,
   "metadata": {},
   "outputs": [],
   "source": []
  },
  {
   "cell_type": "code",
   "execution_count": null,
   "metadata": {},
   "outputs": [],
   "source": []
  }
 ],
 "metadata": {
  "kernelspec": {
   "display_name": "Python 3.6.4 64-bit ('dl': conda)",
   "language": "python",
   "name": "python36464bitdlconda74ce50dd77ab450dad146f0ee6a8041f"
  },
  "language_info": {
   "codemirror_mode": {
    "name": "ipython",
    "version": 3
   },
   "file_extension": ".py",
   "mimetype": "text/x-python",
   "name": "python",
   "nbconvert_exporter": "python",
   "pygments_lexer": "ipython3",
   "version": "3.6.4"
  }
 },
 "nbformat": 4,
 "nbformat_minor": 2
}
