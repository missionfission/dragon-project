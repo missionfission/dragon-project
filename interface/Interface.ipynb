{
 "cells": [
  {
   "cell_type": "code",
   "execution_count": 1,
   "metadata": {},
   "outputs": [
    {
     "ename": "IndentationError",
     "evalue": "expected an indented block (<ipython-input-1-d551304c8f59>, line 7)",
     "output_type": "error",
     "traceback": [
      "\u001b[0;36m  File \u001b[0;32m\"<ipython-input-1-d551304c8f59>\"\u001b[0;36m, line \u001b[0;32m7\u001b[0m\n\u001b[0;31m    r = gr.in.Slider(1, 5)\u001b[0m\n\u001b[0m    ^\u001b[0m\n\u001b[0;31mIndentationError\u001b[0m\u001b[0;31m:\u001b[0m expected an indented block\n"
     ]
    }
   ],
   "source": [
    "import gradio as gr, matplotlib.pyplot as plt\n",
    "\n",
    "def outbreak_forecast(r, month, countries, social_distancing):\n",
    "    # ... run model to forecast outbreak and generate plots\n",
    "    # ... return plt\n",
    "\n",
    "r = gr.in.Slider(1, 5)\n",
    "month = gr.in.Dropdown([\"May\", \"June\", \"July\"])\n",
    "countries = gr.in.CheckboxGroup([\"USA\", \"Canada\", \"Mexico\", \"UK\"])\n",
    "\n",
    "gr.Interface(fn=outbreak_forecast, \n",
    "    inputs=[r, month, countries, \"checkbox\"], outputs=\"plot\").launch()"
   ]
  },
  {
   "cell_type": "code",
   "execution_count": null,
   "metadata": {},
   "outputs": [],
   "source": []
  }
 ],
 "metadata": {
  "kernelspec": {
   "display_name": "Python 3.6.4 64-bit ('dl': conda)",
   "language": "python",
   "name": "python36464bitdlconda74ce50dd77ab450dad146f0ee6a8041f"
  },
  "language_info": {
   "codemirror_mode": {
    "name": "ipython",
    "version": 3
   },
   "file_extension": ".py",
   "mimetype": "text/x-python",
   "name": "python",
   "nbconvert_exporter": "python",
   "pygments_lexer": "ipython3",
   "version": "3.6.4"
  }
 },
 "nbformat": 4,
 "nbformat_minor": 2
}
